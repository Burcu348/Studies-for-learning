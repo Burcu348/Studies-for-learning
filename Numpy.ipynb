{
 "cells": [
  {
   "cell_type": "markdown",
   "id": "91b56ee5",
   "metadata": {},
   "source": [
    "# Numpy"
   ]
  },
  {
   "cell_type": "code",
   "execution_count": 1,
   "id": "4248ec4b",
   "metadata": {},
   "outputs": [],
   "source": [
    "import numpy as np"
   ]
  },
  {
   "cell_type": "code",
   "execution_count": 3,
   "id": "4cc9a197",
   "metadata": {},
   "outputs": [
    {
     "data": {
      "text/plain": [
       "array([ 0,  1,  2,  3,  4,  5,  6,  7,  8,  9, 10, 11, 12, 13, 14])"
      ]
     },
     "execution_count": 3,
     "metadata": {},
     "output_type": "execute_result"
    }
   ],
   "source": [
    "np.arange(0,15) #girilen aralıkta liste oluşturur"
   ]
  },
  {
   "cell_type": "code",
   "execution_count": 4,
   "id": "28102197",
   "metadata": {},
   "outputs": [
    {
     "data": {
      "text/plain": [
       "array([ 0,  3,  6,  9, 12, 15, 18, 21, 24])"
      ]
     },
     "execution_count": 4,
     "metadata": {},
     "output_type": "execute_result"
    }
   ],
   "source": [
    "#burda bir de step size ekledik, bu aralıkta sayıların kaçar kaçar ilerlemesi gerektiğini belirtir\n",
    "np.arange(0,27,3)"
   ]
  },
  {
   "cell_type": "code",
   "execution_count": 5,
   "id": "717c2e64",
   "metadata": {},
   "outputs": [
    {
     "data": {
      "text/plain": [
       "array([0., 0., 0., 0., 0.])"
      ]
     },
     "execution_count": 5,
     "metadata": {},
     "output_type": "execute_result"
    }
   ],
   "source": [
    "np.zeros(5) #içinde 5 tane 0 olan dizi oluşturuyor"
   ]
  },
  {
   "cell_type": "code",
   "execution_count": 6,
   "id": "fbda261b",
   "metadata": {},
   "outputs": [
    {
     "data": {
      "text/plain": [
       "array([[0., 0., 0.],\n",
       "       [0., 0., 0.],\n",
       "       [0., 0., 0.]])"
      ]
     },
     "execution_count": 6,
     "metadata": {},
     "output_type": "execute_result"
    }
   ],
   "source": [
    "np.zeros((3,3)) #3*3'lük matris oluşturur sıfırlardan oluşan"
   ]
  },
  {
   "cell_type": "code",
   "execution_count": 7,
   "id": "76698443",
   "metadata": {},
   "outputs": [
    {
     "data": {
      "text/plain": [
       "array([[1., 1., 1., 1.],\n",
       "       [1., 1., 1., 1.],\n",
       "       [1., 1., 1., 1.],\n",
       "       [1., 1., 1., 1.]])"
      ]
     },
     "execution_count": 7,
     "metadata": {},
     "output_type": "execute_result"
    }
   ],
   "source": [
    "np.ones((4,4)) #4*4'lük matris oluşturur birlerden oluşan"
   ]
  },
  {
   "cell_type": "markdown",
   "id": "c06cb265",
   "metadata": {},
   "source": [
    "### linspace method"
   ]
  },
  {
   "cell_type": "code",
   "execution_count": 8,
   "id": "cd8ae500",
   "metadata": {},
   "outputs": [
    {
     "data": {
      "text/plain": [
       "array([ 0.,  5., 10., 15., 20.])"
      ]
     },
     "execution_count": 8,
     "metadata": {},
     "output_type": "execute_result"
    }
   ],
   "source": [
    "np.linspace(0,20,5) #burda stop index 20'dir, 19 değil"
   ]
  },
  {
   "cell_type": "code",
   "execution_count": 9,
   "id": "e7c53f3c",
   "metadata": {},
   "outputs": [
    {
     "data": {
      "text/plain": [
       "array([ 0.,  4.,  8., 12., 16., 20.])"
      ]
     },
     "execution_count": 9,
     "metadata": {},
     "output_type": "execute_result"
    }
   ],
   "source": [
    "np.linspace(0,20,6) #bu aralıkta eşit farkla 6 aralık oluştur anlamında"
   ]
  },
  {
   "cell_type": "code",
   "execution_count": 10,
   "id": "3d01ff0f",
   "metadata": {},
   "outputs": [
    {
     "data": {
      "text/plain": [
       "array([ 0.        ,  0.52631579,  1.05263158,  1.57894737,  2.10526316,\n",
       "        2.63157895,  3.15789474,  3.68421053,  4.21052632,  4.73684211,\n",
       "        5.26315789,  5.78947368,  6.31578947,  6.84210526,  7.36842105,\n",
       "        7.89473684,  8.42105263,  8.94736842,  9.47368421, 10.        ])"
      ]
     },
     "execution_count": 10,
     "metadata": {},
     "output_type": "execute_result"
    }
   ],
   "source": [
    "np.linspace(0,10,20) #tüm sayılar arasındaki farklar eşit,burda stop index 10'dur"
   ]
  },
  {
   "cell_type": "markdown",
   "id": "d0c23290",
   "metadata": {},
   "source": [
    "### random"
   ]
  },
  {
   "cell_type": "code",
   "execution_count": 12,
   "id": "2b0c0642",
   "metadata": {},
   "outputs": [
    {
     "data": {
      "text/plain": [
       "array([ 1.29019738, -0.76187828,  0.58758679,  0.5923848 ])"
      ]
     },
     "execution_count": 12,
     "metadata": {},
     "output_type": "execute_result"
    }
   ],
   "source": [
    "np.random.randn(4) #rastgele 4 sayıdan oluşan array oluşturur"
   ]
  },
  {
   "cell_type": "code",
   "execution_count": 13,
   "id": "7679f6a5",
   "metadata": {},
   "outputs": [
    {
     "data": {
      "text/plain": [
       "array([[ 1.29457734, -1.19023542, -0.30233839,  0.34338799],\n",
       "       [-0.39463215,  0.58395041,  1.73577984,  0.2342302 ],\n",
       "       [-1.01193889,  0.65076515, -0.17319211, -0.8825229 ],\n",
       "       [-1.0049647 , -0.64353408, -0.72581357,  1.60834524]])"
      ]
     },
     "execution_count": 13,
     "metadata": {},
     "output_type": "execute_result"
    }
   ],
   "source": [
    "np.random.randn(4,4) #rastgele sayılardan oluşan 4*4'lük matrix oluşturur"
   ]
  },
  {
   "cell_type": "code",
   "execution_count": 14,
   "id": "4ada115c",
   "metadata": {},
   "outputs": [
    {
     "data": {
      "text/plain": [
       "9"
      ]
     },
     "execution_count": 14,
     "metadata": {},
     "output_type": "execute_result"
    }
   ],
   "source": [
    "np.random.randint(1,10) #1 ile 10 arasında random bir sayı üret(integer)"
   ]
  },
  {
   "cell_type": "code",
   "execution_count": 15,
   "id": "86b3a9a0",
   "metadata": {},
   "outputs": [
    {
     "data": {
      "text/plain": [
       "array([2, 1, 3, 5, 5])"
      ]
     },
     "execution_count": 15,
     "metadata": {},
     "output_type": "execute_result"
    }
   ],
   "source": [
    "np.random.randint(1,10,5) #1 ile 10 arasında(10 dahil değil) random 5 sayı üret"
   ]
  },
  {
   "cell_type": "markdown",
   "id": "7ff219eb",
   "metadata": {},
   "source": [
    "### Numpy array methods"
   ]
  },
  {
   "cell_type": "code",
   "execution_count": 16,
   "id": "1a18fcd7",
   "metadata": {},
   "outputs": [],
   "source": [
    "nparray = np.arange(30)"
   ]
  },
  {
   "cell_type": "code",
   "execution_count": 17,
   "id": "70e664bd",
   "metadata": {},
   "outputs": [
    {
     "data": {
      "text/plain": [
       "array([[ 0,  1,  2,  3,  4,  5],\n",
       "       [ 6,  7,  8,  9, 10, 11],\n",
       "       [12, 13, 14, 15, 16, 17],\n",
       "       [18, 19, 20, 21, 22, 23],\n",
       "       [24, 25, 26, 27, 28, 29]])"
      ]
     },
     "execution_count": 17,
     "metadata": {},
     "output_type": "execute_result"
    }
   ],
   "source": [
    "nparray.reshape(5,6) #bu diziyi 5*6'lık matrise çevirir"
   ]
  },
  {
   "cell_type": "code",
   "execution_count": 28,
   "id": "912d400a",
   "metadata": {},
   "outputs": [],
   "source": [
    "nparray = nparray.reshape(6,5) #bu diziyi 6*5'lik matrise çevirir\n",
    "#burda reshape(7*5) deseydik hata verirdi çünkü 7*5'lik matriste 35 eleman olmalıdır"
   ]
  },
  {
   "cell_type": "code",
   "execution_count": 30,
   "id": "581f7c18",
   "metadata": {},
   "outputs": [
    {
     "data": {
      "text/plain": [
       "29"
      ]
     },
     "execution_count": 30,
     "metadata": {},
     "output_type": "execute_result"
    }
   ],
   "source": [
    "nparray.max() #dizi içindeki en büyük değeri döndürür"
   ]
  },
  {
   "cell_type": "code",
   "execution_count": 31,
   "id": "11ca0f06",
   "metadata": {},
   "outputs": [
    {
     "data": {
      "text/plain": [
       "0"
      ]
     },
     "execution_count": 31,
     "metadata": {},
     "output_type": "execute_result"
    }
   ],
   "source": [
    "nparray.min() #dizi içindeki en küçük değeri döndürür"
   ]
  },
  {
   "cell_type": "code",
   "execution_count": 22,
   "id": "0457aee8",
   "metadata": {},
   "outputs": [],
   "source": [
    "randarray = np.random.randint(0,97,35)"
   ]
  },
  {
   "cell_type": "code",
   "execution_count": 23,
   "id": "0b902678",
   "metadata": {},
   "outputs": [
    {
     "data": {
      "text/plain": [
       "array([40,  9,  8, 35, 34, 89, 21, 13, 38, 40, 25, 46, 64, 72, 45, 14, 96,\n",
       "       55, 50, 44,  4, 80, 46, 68, 93, 28, 36, 40, 76, 90, 96, 67, 73, 71,\n",
       "       63])"
      ]
     },
     "execution_count": 23,
     "metadata": {},
     "output_type": "execute_result"
    }
   ],
   "source": [
    "randarray"
   ]
  },
  {
   "cell_type": "code",
   "execution_count": 24,
   "id": "94d7226d",
   "metadata": {},
   "outputs": [
    {
     "data": {
      "text/plain": [
       "16"
      ]
     },
     "execution_count": 24,
     "metadata": {},
     "output_type": "execute_result"
    }
   ],
   "source": [
    "randarray.argmax() #en büyük elemanın hangi indekste old. bilgisini verir"
   ]
  },
  {
   "cell_type": "code",
   "execution_count": 25,
   "id": "3c82405a",
   "metadata": {},
   "outputs": [
    {
     "data": {
      "text/plain": [
       "20"
      ]
     },
     "execution_count": 25,
     "metadata": {},
     "output_type": "execute_result"
    }
   ],
   "source": [
    "randarray.argmin() #en küçük elemanın hangi indekste old. bilgisini verir"
   ]
  },
  {
   "cell_type": "code",
   "execution_count": 26,
   "id": "711e69e7",
   "metadata": {},
   "outputs": [
    {
     "data": {
      "text/plain": [
       "(35,)"
      ]
     },
     "execution_count": 26,
     "metadata": {},
     "output_type": "execute_result"
    }
   ],
   "source": [
    "randarray.shape #bu bir attribute'dur, boyut bilgisini verir"
   ]
  },
  {
   "cell_type": "code",
   "execution_count": 29,
   "id": "c4e0057b",
   "metadata": {},
   "outputs": [
    {
     "data": {
      "text/plain": [
       "(6, 5)"
      ]
     },
     "execution_count": 29,
     "metadata": {},
     "output_type": "execute_result"
    }
   ],
   "source": [
    "nparray.shape"
   ]
  },
  {
   "cell_type": "markdown",
   "id": "05914893",
   "metadata": {},
   "source": [
    "### Indexing"
   ]
  },
  {
   "cell_type": "code",
   "execution_count": 2,
   "id": "99d787ee",
   "metadata": {},
   "outputs": [
    {
     "data": {
      "text/plain": [
       "array([ 0,  1,  2,  3,  4,  5,  6,  7,  8,  9, 10, 11, 12, 13, 14])"
      ]
     },
     "execution_count": 2,
     "metadata": {},
     "output_type": "execute_result"
    }
   ],
   "source": [
    "myarray = np.arange(0,15)\n",
    "myarray"
   ]
  },
  {
   "cell_type": "code",
   "execution_count": 3,
   "id": "0507330c",
   "metadata": {},
   "outputs": [
    {
     "data": {
      "text/plain": [
       "6"
      ]
     },
     "execution_count": 3,
     "metadata": {},
     "output_type": "execute_result"
    }
   ],
   "source": [
    "myarray[6] #myarray dizisinin 6.indeksinde bulunan elemanı döndür"
   ]
  },
  {
   "cell_type": "code",
   "execution_count": 4,
   "id": "97782ba2",
   "metadata": {},
   "outputs": [
    {
     "data": {
      "text/plain": [
       "array([3, 4, 5, 6, 7])"
      ]
     },
     "execution_count": 4,
     "metadata": {},
     "output_type": "execute_result"
    }
   ],
   "source": [
    "myarray[3:8] #slicing"
   ]
  },
  {
   "cell_type": "code",
   "execution_count": 5,
   "id": "341231d5",
   "metadata": {},
   "outputs": [],
   "source": [
    "myarray[4:9] = -3 #bu aralıktaki indekslere yeni değer atadık"
   ]
  },
  {
   "cell_type": "code",
   "execution_count": 6,
   "id": "dee739c8",
   "metadata": {},
   "outputs": [
    {
     "data": {
      "text/plain": [
       "array([ 0,  1,  2,  3, -3, -3, -3, -3, -3,  9, 10, 11, 12, 13, 14])"
      ]
     },
     "execution_count": 6,
     "metadata": {},
     "output_type": "execute_result"
    }
   ],
   "source": [
    "myarray"
   ]
  },
  {
   "cell_type": "code",
   "execution_count": 7,
   "id": "85b0280b",
   "metadata": {},
   "outputs": [],
   "source": [
    "arr1 = np.random.randint(0,90,37)"
   ]
  },
  {
   "cell_type": "code",
   "execution_count": 8,
   "id": "a48af0ca",
   "metadata": {},
   "outputs": [
    {
     "data": {
      "text/plain": [
       "array([81, 35, 21, 54, 27, 78, 72, 83, 87, 17, 84, 47, 87, 87, 72, 86, 68,\n",
       "       34, 38, 52, 16,  8, 62, 27,  8, 32, 25,  8, 50, 18, 10, 48, 62, 54,\n",
       "       61, 52,  4])"
      ]
     },
     "execution_count": 8,
     "metadata": {},
     "output_type": "execute_result"
    }
   ],
   "source": [
    "arr1"
   ]
  },
  {
   "cell_type": "code",
   "execution_count": 10,
   "id": "f028617d",
   "metadata": {},
   "outputs": [
    {
     "data": {
      "text/plain": [
       "array([27, 78, 72, 83, 87, 17, 84, 47, 87, 87, 72, 86, 68, 34, 38, 52, 16,\n",
       "        8, 62, 27,  8, 32, 25,  8])"
      ]
     },
     "execution_count": 10,
     "metadata": {},
     "output_type": "execute_result"
    }
   ],
   "source": [
    "slicingarr = arr1[4:28]\n",
    "slicingarr"
   ]
  },
  {
   "cell_type": "code",
   "execution_count": 11,
   "id": "292a8186",
   "metadata": {},
   "outputs": [
    {
     "data": {
      "text/plain": [
       "array([27, 78, 72, 83, 87, 17, 84, 47, 87, 87, 72, 86, 68, 34, 38, 52, 16,\n",
       "        8, 62, 27,  8, 32, 25,  8])"
      ]
     },
     "execution_count": 11,
     "metadata": {},
     "output_type": "execute_result"
    }
   ],
   "source": [
    "slicingarr[:] #indeksleme yaparken hepsini alır "
   ]
  },
  {
   "cell_type": "code",
   "execution_count": 12,
   "id": "c225fc2c",
   "metadata": {},
   "outputs": [],
   "source": [
    "slicingarr[:] = 250 #tüm elemanlarını 250'ye eşitler"
   ]
  },
  {
   "cell_type": "code",
   "execution_count": 13,
   "id": "22812842",
   "metadata": {},
   "outputs": [
    {
     "data": {
      "text/plain": [
       "array([250, 250, 250, 250, 250, 250, 250, 250, 250, 250, 250, 250, 250,\n",
       "       250, 250, 250, 250, 250, 250, 250, 250, 250, 250, 250])"
      ]
     },
     "execution_count": 13,
     "metadata": {},
     "output_type": "execute_result"
    }
   ],
   "source": [
    "slicingarr"
   ]
  },
  {
   "cell_type": "code",
   "execution_count": 14,
   "id": "b09bb7d7",
   "metadata": {},
   "outputs": [
    {
     "data": {
      "text/plain": [
       "array([ 81,  35,  21,  54, 250, 250, 250, 250, 250, 250, 250, 250, 250,\n",
       "       250, 250, 250, 250, 250, 250, 250, 250, 250, 250, 250, 250, 250,\n",
       "       250, 250,  50,  18,  10,  48,  62,  54,  61,  52,   4])"
      ]
     },
     "execution_count": 14,
     "metadata": {},
     "output_type": "execute_result"
    }
   ],
   "source": [
    "arr1"
   ]
  },
  {
   "cell_type": "markdown",
   "id": "aa6702e2",
   "metadata": {},
   "source": [
    "#### Elimizdeki veri seti(türü her ne ise) üzerinde işlemler yapalım ama orijinal hali değişmesin istiyorsak copy() metodunu kullanırız ve veri setinin aslını korumuş oluruz."
   ]
  },
  {
   "cell_type": "code",
   "execution_count": 15,
   "id": "d979188e",
   "metadata": {},
   "outputs": [],
   "source": [
    "arr1copy = arr1.copy()"
   ]
  },
  {
   "cell_type": "code",
   "execution_count": 17,
   "id": "3e9b1e17",
   "metadata": {},
   "outputs": [
    {
     "data": {
      "text/plain": [
       "array([ 81,  35,  21,  54, 250, 250, 250, 250, 250, 250, 250, 250, 250,\n",
       "       250, 250, 250, 250, 250, 250, 250, 250, 250, 250, 250, 250, 250,\n",
       "       250, 250,  50,  18,  10,  48,  62,  54,  61,  52,   4])"
      ]
     },
     "execution_count": 17,
     "metadata": {},
     "output_type": "execute_result"
    }
   ],
   "source": [
    "arr1copy"
   ]
  },
  {
   "cell_type": "markdown",
   "id": "d5806b57",
   "metadata": {},
   "source": [
    "### Matrix "
   ]
  },
  {
   "cell_type": "code",
   "execution_count": 18,
   "id": "339d4f0e",
   "metadata": {},
   "outputs": [],
   "source": [
    "mymatrix = np.array([[10,20,30],[40,50,60],[70,80,90]])"
   ]
  },
  {
   "cell_type": "code",
   "execution_count": 19,
   "id": "d4d527d3",
   "metadata": {},
   "outputs": [
    {
     "data": {
      "text/plain": [
       "array([[10, 20, 30],\n",
       "       [40, 50, 60],\n",
       "       [70, 80, 90]])"
      ]
     },
     "execution_count": 19,
     "metadata": {},
     "output_type": "execute_result"
    }
   ],
   "source": [
    "mymatrix"
   ]
  },
  {
   "cell_type": "code",
   "execution_count": 21,
   "id": "e9c84d05",
   "metadata": {},
   "outputs": [
    {
     "data": {
      "text/plain": [
       "array([10, 20, 30])"
      ]
     },
     "execution_count": 21,
     "metadata": {},
     "output_type": "execute_result"
    }
   ],
   "source": [
    "mymatrix[0] #0.indekste bulunan satırı veriyor"
   ]
  },
  {
   "cell_type": "code",
   "execution_count": 22,
   "id": "2df3bab9",
   "metadata": {},
   "outputs": [
    {
     "data": {
      "text/plain": [
       "60"
      ]
     },
     "execution_count": 22,
     "metadata": {},
     "output_type": "execute_result"
    }
   ],
   "source": [
    "mymatrix[1][2] #1.satır 2.sütündaki eleman "
   ]
  },
  {
   "cell_type": "code",
   "execution_count": 23,
   "id": "a4808a73",
   "metadata": {},
   "outputs": [
    {
     "data": {
      "text/plain": [
       "60"
      ]
     },
     "execution_count": 23,
     "metadata": {},
     "output_type": "execute_result"
    }
   ],
   "source": [
    "mymatrix[1,2] #bu da aynı sonucu verir, numpy'da aynı işlemi yaparlar"
   ]
  },
  {
   "cell_type": "code",
   "execution_count": 24,
   "id": "9f030b5d",
   "metadata": {},
   "outputs": [
    {
     "data": {
      "text/plain": [
       "array([[90]])"
      ]
     },
     "execution_count": 24,
     "metadata": {},
     "output_type": "execute_result"
    }
   ],
   "source": [
    "mymatrix[2:,2:]"
   ]
  },
  {
   "cell_type": "code",
   "execution_count": 25,
   "id": "6170bb63",
   "metadata": {},
   "outputs": [
    {
     "data": {
      "text/plain": [
       "array([[10, 20, 30],\n",
       "       [70, 80, 90]])"
      ]
     },
     "execution_count": 25,
     "metadata": {},
     "output_type": "execute_result"
    }
   ],
   "source": [
    "#içine liste olarak da verebiliriz\n",
    "mymatrix[[0,2]] #0 ve 2.indekstekileri döndürür"
   ]
  },
  {
   "cell_type": "code",
   "execution_count": 26,
   "id": "192998ab",
   "metadata": {},
   "outputs": [
    {
     "data": {
      "text/plain": [
       "array([12, 79,  2, 94, 66, 13, 94, 87, 31, 79, 64, 22, 96, 87, 74, 71, 80,\n",
       "       54, 90, 94, 52, 48, 18, 82, 73])"
      ]
     },
     "execution_count": 26,
     "metadata": {},
     "output_type": "execute_result"
    }
   ],
   "source": [
    "arr2 = np.random.randint(0,99,25)\n",
    "arr2"
   ]
  },
  {
   "cell_type": "code",
   "execution_count": 27,
   "id": "5ec42541",
   "metadata": {},
   "outputs": [
    {
     "data": {
      "text/plain": [
       "array([79, 94, 66, 94, 87, 31, 79, 64, 96, 87, 74, 71, 80, 54, 90, 94, 52,\n",
       "       48, 82, 73])"
      ]
     },
     "execution_count": 27,
     "metadata": {},
     "output_type": "execute_result"
    }
   ],
   "source": [
    "arr2[arr2 > 24] #arr2 dizisindeki 24'ten büyük elemanları verir"
   ]
  },
  {
   "cell_type": "code",
   "execution_count": 28,
   "id": "9abc566f",
   "metadata": {},
   "outputs": [
    {
     "data": {
      "text/plain": [
       "array([ 24, 158,   4, 188, 132,  26, 188, 174,  62, 158, 128,  44, 192,\n",
       "       174, 148, 142, 160, 108, 180, 188, 104,  96,  36, 164, 146])"
      ]
     },
     "execution_count": 28,
     "metadata": {},
     "output_type": "execute_result"
    }
   ],
   "source": [
    "arr2 + arr2"
   ]
  },
  {
   "cell_type": "code",
   "execution_count": 29,
   "id": "484e489d",
   "metadata": {},
   "outputs": [
    {
     "data": {
      "text/plain": [
       "array([ 144, 6241,    4, 8836, 4356,  169, 8836, 7569,  961, 6241, 4096,\n",
       "        484, 9216, 7569, 5476, 5041, 6400, 2916, 8100, 8836, 2704, 2304,\n",
       "        324, 6724, 5329])"
      ]
     },
     "execution_count": 29,
     "metadata": {},
     "output_type": "execute_result"
    }
   ],
   "source": [
    "arr2 * arr2"
   ]
  },
  {
   "cell_type": "code",
   "execution_count": null,
   "id": "99b54e42",
   "metadata": {},
   "outputs": [],
   "source": []
  }
 ],
 "metadata": {
  "kernelspec": {
   "display_name": "Python 3 (ipykernel)",
   "language": "python",
   "name": "python3"
  },
  "language_info": {
   "codemirror_mode": {
    "name": "ipython",
    "version": 3
   },
   "file_extension": ".py",
   "mimetype": "text/x-python",
   "name": "python",
   "nbconvert_exporter": "python",
   "pygments_lexer": "ipython3",
   "version": "3.9.12"
  }
 },
 "nbformat": 4,
 "nbformat_minor": 5
}
