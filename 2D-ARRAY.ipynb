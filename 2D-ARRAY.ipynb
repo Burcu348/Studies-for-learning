{
 "cells": [
  {
   "cell_type": "markdown",
   "id": "8abd99ad",
   "metadata": {},
   "source": [
    "FİRST TYPE"
   ]
  },
  {
   "cell_type": "markdown",
   "id": "ad617875",
   "metadata": {},
   "source": [
    "#Array:An array is a collection of similar data type."
   ]
  },
  {
   "cell_type": "code",
   "execution_count": 1,
   "id": "0102542d",
   "metadata": {},
   "outputs": [
    {
     "name": "stdout",
     "output_type": "stream",
     "text": [
      "Enter the number of row: 3\n",
      "Enter the number of column: 3\n",
      "entry in row:  1 column:  1\n",
      "2\n",
      "entry in row:  1 column:  2\n",
      "3\n",
      "entry in row:  1 column:  3\n",
      "5\n",
      "entry in row:  2 column:  1\n",
      "4\n",
      "entry in row:  2 column:  2\n",
      "6\n",
      "entry in row:  2 column:  3\n",
      "7\n",
      "entry in row:  3 column:  1\n",
      "7\n",
      "entry in row:  3 column:  2\n",
      "9\n",
      "entry in row:  3 column:  3\n",
      "8\n",
      "[[2, 3, 5], [4, 6, 7], [7, 9, 8]]\n"
     ]
    }
   ],
   "source": [
    "r=int(input(\"Enter the number of row: \"))\n",
    "c=int(input(\"Enter the number of column: \"))\n",
    "\n",
    "mat=[]\n",
    "\n",
    "for i in range(0,r):\n",
    "    mat.append([])\n",
    "    \n",
    "for i in range(0,r):\n",
    "    for j in range(0,c):\n",
    "        mat[i].append(j)\n",
    "        mat[i][j]=0\n",
    "        \n",
    "for i in range(0,r):\n",
    "    for j in range(0,c):\n",
    "        print(\"entry in row: \",i+1,\"column: \",j+1)\n",
    "        mat[i][j]=int(input())\n",
    "        \n",
    "print(mat)"
   ]
  },
  {
   "cell_type": "markdown",
   "id": "03053bd0",
   "metadata": {},
   "source": [
    "SECOND TYPE"
   ]
  },
  {
   "cell_type": "code",
   "execution_count": 2,
   "id": "7fce83fa",
   "metadata": {},
   "outputs": [
    {
     "name": "stdout",
     "output_type": "stream",
     "text": [
      "Enter the number of rows: 3\n",
      "Enter the number of columns: 3\n",
      "2\n",
      "5\n",
      "6\n",
      "7\n",
      "8\n",
      "1\n",
      "3\n",
      "4\n",
      "5\n",
      "[2, 5, 6]\n",
      "[7, 8, 1]\n",
      "[3, 4, 5]\n"
     ]
    }
   ],
   "source": [
    "r=int(input(\"Enter the number of rows: \"))\n",
    "c=int(input(\"Enter the number of columns: \"))\n",
    "\n",
    "mat=[[int(input())for x in range(c)]for y in range(r)]\n",
    "\n",
    "for j in mat:\n",
    "    print(j)"
   ]
  },
  {
   "cell_type": "markdown",
   "id": "d5d6ba93",
   "metadata": {},
   "source": [
    "THİRD TYPE"
   ]
  },
  {
   "cell_type": "code",
   "execution_count": 4,
   "id": "d53a2021",
   "metadata": {},
   "outputs": [
    {
     "name": "stdout",
     "output_type": "stream",
     "text": [
      "Enter how many rows: 2\n",
      "Enter how many columns: 3\n",
      "[[0, 0, 0], [0, 0, 0]]\n"
     ]
    }
   ],
   "source": [
    "r=int(input(\"Enter how many rows: \"))\n",
    "c=int(input(\"Enter how many columns: \"))\n",
    "\n",
    "L=[]\n",
    "\n",
    "for i in range(0,r):\n",
    "    L.append([0]*c)\n",
    "    \n",
    "print(L)"
   ]
  },
  {
   "cell_type": "markdown",
   "id": "68df8b24",
   "metadata": {},
   "source": [
    "FOURTH TYPE"
   ]
  },
  {
   "cell_type": "code",
   "execution_count": null,
   "id": "972c87fa",
   "metadata": {},
   "outputs": [],
   "source": [
    "r=int(input(\"Enter the number of rows: \"))\n",
    "c=int(input(\"Enter the number of columns: \"))\n",
    "\n",
    "L=[]\n",
    "\n",
    "for i in range(r):\n",
    "    L.append([0]*c)\n",
    "    \n",
    "for i in range(r):\n",
    "    for j in range(c):\n",
    "        L[i][j]=int(input(\"Enter the value at row \" + str(i+1) +\" col \" + str(j+1) +\":\"))\n",
    "        \n",
    "for i in range(r):\n",
    "    print(L[i])"
   ]
  }
 ],
 "metadata": {
  "kernelspec": {
   "display_name": "Python 3 (ipykernel)",
   "language": "python",
   "name": "python3"
  },
  "language_info": {
   "codemirror_mode": {
    "name": "ipython",
    "version": 3
   },
   "file_extension": ".py",
   "mimetype": "text/x-python",
   "name": "python",
   "nbconvert_exporter": "python",
   "pygments_lexer": "ipython3",
   "version": "3.11.7"
  }
 },
 "nbformat": 4,
 "nbformat_minor": 5
}
