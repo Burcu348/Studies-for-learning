{
 "cells": [
  {
   "cell_type": "code",
   "execution_count": 8,
   "metadata": {},
   "outputs": [],
   "source": [
    "from datetime import datetime #datetime modülünden datetime sınıfını çağırdık..."
   ]
  },
  {
   "cell_type": "code",
   "execution_count": 3,
   "metadata": {},
   "outputs": [
    {
     "name": "stdout",
     "output_type": "stream",
     "text": [
      "2021-09-11 15:02:59.119297\n"
     ]
    }
   ],
   "source": [
    "şuan = datetime.now() #yıl,ay,gün,saat,dakika,saniye cinsinden tarihi verir çıktı olarak.\n",
    "print(şuan)"
   ]
  },
  {
   "cell_type": "code",
   "execution_count": 5,
   "metadata": {},
   "outputs": [
    {
     "name": "stdout",
     "output_type": "stream",
     "text": [
      "<class 'datetime.datetime'>\n"
     ]
    }
   ],
   "source": [
    "print(type(şuan))"
   ]
  },
  {
   "cell_type": "code",
   "execution_count": 7,
   "metadata": {},
   "outputs": [
    {
     "name": "stdout",
     "output_type": "stream",
     "text": [
      "2021\n"
     ]
    }
   ],
   "source": [
    "print(şuan.year) #değerleri ayrı ayrı almak istersek bu şekilde kullanırız."
   ]
  },
  {
   "cell_type": "code",
   "execution_count": 8,
   "metadata": {},
   "outputs": [
    {
     "name": "stdout",
     "output_type": "stream",
     "text": [
      "9\n"
     ]
    }
   ],
   "source": [
    "print(şuan.month)"
   ]
  },
  {
   "cell_type": "code",
   "execution_count": 9,
   "metadata": {},
   "outputs": [
    {
     "name": "stdout",
     "output_type": "stream",
     "text": [
      "11\n"
     ]
    }
   ],
   "source": [
    "print(şuan.day)"
   ]
  },
  {
   "cell_type": "code",
   "execution_count": 11,
   "metadata": {},
   "outputs": [
    {
     "name": "stdout",
     "output_type": "stream",
     "text": [
      "15\n",
      "2\n"
     ]
    }
   ],
   "source": [
    "print(şuan.hour)\n",
    "print(şuan.minute)"
   ]
  },
  {
   "cell_type": "code",
   "execution_count": 13,
   "metadata": {},
   "outputs": [
    {
     "name": "stdout",
     "output_type": "stream",
     "text": [
      "2021-09-11\n"
     ]
    }
   ],
   "source": [
    "print(şuan.date()) #sadece tarihi almak istersek bu şekilde kullanabiliriz"
   ]
  },
  {
   "cell_type": "code",
   "execution_count": 14,
   "metadata": {},
   "outputs": [
    {
     "name": "stdout",
     "output_type": "stream",
     "text": [
      "15:02:59.119297\n"
     ]
    }
   ],
   "source": [
    "print(şuan.time()) #sadece zamanı(saati) almak istersek..."
   ]
  },
  {
   "cell_type": "code",
   "execution_count": 16,
   "metadata": {},
   "outputs": [
    {
     "name": "stdout",
     "output_type": "stream",
     "text": [
      "Yıl:2021,Ay:09,Gün:11\n"
     ]
    }
   ],
   "source": [
    "şuan=datetime.now()\n",
    "\n",
    "liste=str(şuan.date()).split(\"-\")\n",
    "print(\"Yıl:{},Ay:{},Gün:{}\".format(liste[0],liste[1],liste[2]))"
   ]
  },
  {
   "cell_type": "code",
   "execution_count": 17,
   "metadata": {},
   "outputs": [
    {
     "name": "stdout",
     "output_type": "stream",
     "text": [
      "2021-09-11 15:27:25.019048\n",
      "2021-09-11 15:27:26.019545\n",
      "2021-09-11 15:27:27.031642\n",
      "2021-09-11 15:27:28.038270\n",
      "2021-09-11 15:27:29.045101\n",
      "2021-09-11 15:27:30.054029\n",
      "2021-09-11 15:27:31.059777\n",
      "2021-09-11 15:27:32.066630\n",
      "2021-09-11 15:27:33.076600\n",
      "2021-09-11 15:27:34.082130\n",
      "2021-09-11 15:27:35.092400\n",
      "2021-09-11 15:27:36.100795\n",
      "2021-09-11 15:27:37.107370\n",
      "2021-09-11 15:27:38.120135\n",
      "2021-09-11 15:27:39.125332\n",
      "2021-09-11 15:27:40.131639\n",
      "2021-09-11 15:27:41.139021\n",
      "2021-09-11 15:27:42.153796\n",
      "2021-09-11 15:27:43.168557\n",
      "2021-09-11 15:27:44.173793\n",
      "2021-09-11 15:27:45.176885\n",
      "2021-09-11 15:27:46.183724\n",
      "2021-09-11 15:27:47.187338\n",
      "2021-09-11 15:27:48.189195\n",
      "2021-09-11 15:27:49.194214\n",
      "2021-09-11 15:27:50.198611\n",
      "2021-09-11 15:27:51.208912\n",
      "2021-09-11 15:27:52.216624\n",
      "2021-09-11 15:27:53.221925\n",
      "2021-09-11 15:27:54.229821\n",
      "2021-09-11 15:27:55.235412\n",
      "2021-09-11 15:27:56.240631\n",
      "2021-09-11 15:27:57.242434\n",
      "2021-09-11 15:27:58.251143\n",
      "2021-09-11 15:27:59.257515\n",
      "2021-09-11 15:28:00.265919\n",
      "2021-09-11 15:28:01.270649\n",
      "2021-09-11 15:28:02.277301\n",
      "2021-09-11 15:28:03.289327\n",
      "2021-09-11 15:28:04.300254\n",
      "2021-09-11 15:28:05.304074\n",
      "2021-09-11 15:28:06.311499\n",
      "2021-09-11 15:28:07.316002\n",
      "2021-09-11 15:28:08.318112\n",
      "2021-09-11 15:28:09.321800\n",
      "saniye 10'a geldi!\n"
     ]
    }
   ],
   "source": [
    "import time\n",
    "\n",
    "while True:\n",
    "    şuan=datetime.now()\n",
    "    saniye=şuan.second\n",
    "    \n",
    "    if (saniye==10):\n",
    "        print(\"saniye 10'a geldi!\")\n",
    "        break\n",
    "        \n",
    "    print(şuan)\n",
    "    time.sleep(1)  "
   ]
  },
  {
   "cell_type": "code",
   "execution_count": 18,
   "metadata": {},
   "outputs": [
    {
     "name": "stdout",
     "output_type": "stream",
     "text": [
      "Sat Sep 11 15:28:10 2021\n"
     ]
    }
   ],
   "source": [
    "print(datetime.ctime(şuan))"
   ]
  },
  {
   "cell_type": "code",
   "execution_count": 2,
   "metadata": {},
   "outputs": [],
   "source": [
    "import locale"
   ]
  },
  {
   "cell_type": "code",
   "execution_count": 4,
   "metadata": {},
   "outputs": [
    {
     "name": "stdout",
     "output_type": "stream",
     "text": [
      "Salı gününde Eyl ayında buluşalım saat 16:39:27'te.\n"
     ]
    }
   ],
   "source": [
    "locale.setlocale(locale.LC_ALL,\"Turkish\")\n",
    "\n",
    "şuan=datetime.now()\n",
    "print(datetime.strftime(şuan,\"%A gününde %b ayında buluşalım saat %X'te.\"))"
   ]
  },
  {
   "cell_type": "code",
   "execution_count": 6,
   "metadata": {},
   "outputs": [
    {
     "name": "stdout",
     "output_type": "stream",
     "text": [
      "Salı\n"
     ]
    }
   ],
   "source": [
    "tarih=\"14 Eylül Salı\"\n",
    "zaman,ay,gün=tarih.split(\" \")\n",
    "print(gün)"
   ]
  },
  {
   "cell_type": "code",
   "execution_count": 7,
   "metadata": {},
   "outputs": [],
   "source": [
    "tarih=datetime(2020,8,14)#bu şekilde kendimiz de bir tarih oluşturabiliriz"
   ]
  },
  {
   "cell_type": "code",
   "execution_count": 13,
   "metadata": {},
   "outputs": [
    {
     "data": {
      "text/plain": [
       "datetime.datetime"
      ]
     },
     "execution_count": 13,
     "metadata": {},
     "output_type": "execute_result"
    }
   ],
   "source": [
    "type(tarih)"
   ]
  },
  {
   "cell_type": "code",
   "execution_count": 8,
   "metadata": {},
   "outputs": [],
   "source": [
    "an=datetime.now()\n",
    "tarih=datetime(2020,8,14,10,10,10)"
   ]
  },
  {
   "cell_type": "code",
   "execution_count": 11,
   "metadata": {},
   "outputs": [],
   "source": [
    "fark=an-tarih"
   ]
  },
  {
   "cell_type": "code",
   "execution_count": 12,
   "metadata": {},
   "outputs": [
    {
     "name": "stdout",
     "output_type": "stream",
     "text": [
      "396 days, 17:34:50.746411\n"
     ]
    }
   ],
   "source": [
    "print(fark)"
   ]
  },
  {
   "cell_type": "code",
   "execution_count": 14,
   "metadata": {},
   "outputs": [
    {
     "data": {
      "text/plain": [
       "datetime.timedelta"
      ]
     },
     "execution_count": 14,
     "metadata": {},
     "output_type": "execute_result"
    }
   ],
   "source": [
    "type(fark)"
   ]
  },
  {
   "cell_type": "code",
   "execution_count": 17,
   "metadata": {},
   "outputs": [],
   "source": [
    "#artış=datetime.timedelta(days=200) #bu kodu bu şekilde kullanabilmek için modülü sadece import datetime olarak aktarmalıyız.\n",
    "#an=datetime.now()\n",
    "#ileri=an+artış"
   ]
  },
  {
   "cell_type": "code",
   "execution_count": 20,
   "metadata": {},
   "outputs": [
    {
     "name": "stdout",
     "output_type": "stream",
     "text": [
      "2019-02-01 11:33:44\n"
     ]
    }
   ],
   "source": [
    "metin=\"Bugün 01 02 2019 saat 11:33:44\"\n",
    "\n",
    "x=datetime.strptime(metin,\"Bugün %d %m %Y saat %X\")\n",
    "print(x)"
   ]
  },
  {
   "cell_type": "code",
   "execution_count": 21,
   "metadata": {},
   "outputs": [
    {
     "name": "stdout",
     "output_type": "stream",
     "text": [
      "2019\n"
     ]
    }
   ],
   "source": [
    "print(x.year)"
   ]
  },
  {
   "cell_type": "code",
   "execution_count": 1,
   "metadata": {},
   "outputs": [],
   "source": [
    "import datetime"
   ]
  },
  {
   "cell_type": "code",
   "execution_count": 3,
   "metadata": {},
   "outputs": [
    {
     "data": {
      "text/plain": [
       "datetime.datetime(2022, 5, 18, 20, 35, 50, 872733)"
      ]
     },
     "execution_count": 3,
     "metadata": {},
     "output_type": "execute_result"
    }
   ],
   "source": [
    "bugün=datetime.datetime.today()\n",
    "fark=datetime.timedelta(days=245)\n",
    "gelecek=bugün+fark\n",
    "gelecek"
   ]
  },
  {
   "cell_type": "code",
   "execution_count": 4,
   "metadata": {},
   "outputs": [
    {
     "name": "stdout",
     "output_type": "stream",
     "text": [
      "2022-05-18 20:35:50.872733\n"
     ]
    }
   ],
   "source": [
    "print(gelecek)"
   ]
  },
  {
   "cell_type": "code",
   "execution_count": 6,
   "metadata": {},
   "outputs": [
    {
     "data": {
      "text/plain": [
       "'Wed May 18 20:35:50 2022'"
      ]
     },
     "execution_count": 6,
     "metadata": {},
     "output_type": "execute_result"
    }
   ],
   "source": [
    "gelecek1=datetime.datetime.strftime(gelecek,\"%c\")\n",
    "gelecek1"
   ]
  },
  {
   "cell_type": "markdown",
   "metadata": {},
   "source": [
    "# time module"
   ]
  },
  {
   "cell_type": "markdown",
   "metadata": {},
   "source": [
    "sleep() function"
   ]
  },
  {
   "cell_type": "markdown",
   "metadata": {},
   "source": [
    "sleep() fonksiyonu, time modülünün en sık kullanılan araçlarından bir tanesidir.\n",
    "Bu fonksiyonu kullanarak kodlarımızın işleyişini belli sürelerle kesintiye uğratabiliriz.\n",
    "\n",
    "Basit bir örnek verelim:\n",
    "\n",
    ">>> for i in range(10):\n",
    "...     time.sleep(1)\n",
    "...     print(i)\n",
    "Bu kodları çalıştırdığınızda, 0’dan 10’a kadar olan sayılar ekrana basılırken her bir sayı \n",
    "arasına 1’er saniyelik duraklamalar eklendiğini göreceksiniz.\n",
    "Eğer arzu ederseniz bu süreyi 1 saniyenin de altına çekebilirsiniz:\n",
    "\n",
    ">>> for i in range(10):\n",
    "...     time.sleep(0.5)\n",
    "...     print(i)\n",
    "Gördüğünüz gibi, sleep() fonksiyonuna 0.5 parametresini vererek, duraklama süresinin 500 milisaniye olmasını sağladık.\n",
    "\n",
    "time modülünün sleep() fonksiyonunu, kodlarınız arasına duraklama eklemek istediğiniz her durumda kullanabilirsiniz."
   ]
  },
  {
   "cell_type": "code",
   "execution_count": 7,
   "metadata": {},
   "outputs": [
    {
     "name": "stdout",
     "output_type": "stream",
     "text": [
      "0\n",
      "1\n",
      "2\n",
      "3\n",
      "4\n",
      "5\n",
      "6\n",
      "7\n",
      "8\n",
      "9\n"
     ]
    }
   ],
   "source": [
    "import time\n",
    "\n",
    "for i in range(10):\n",
    "    time.sleep(1)\n",
    "    print(i)"
   ]
  },
  {
   "cell_type": "code",
   "execution_count": 10,
   "metadata": {},
   "outputs": [
    {
     "name": "stdout",
     "output_type": "stream",
     "text": [
      "trafiğe çıkış tarihini giriniz: (2018/10/10)2019/9/18\n",
      "728 days, 21:19:46.274406\n",
      "Aracınızın 2. bakım yılındasınız\n"
     ]
    }
   ],
   "source": [
    "v0=input(\"trafiğe çıkış tarihini giriniz: (2018/10/10)\")\n",
    "v0=v0.split(\"/\")\n",
    "vşimdi=datetime.now()\n",
    "vçıkış_tarihi=datetime(int(v0[0]),int(v0[1]),int(v0[2]))\n",
    "vfark=vşimdi-vçıkış_tarihi\n",
    "print(vfark)\n",
    "print(\"Aracınızın {}. bakım yılındasınız\".format(int(vfark.days/365)+1))"
   ]
  },
  {
   "cell_type": "code",
   "execution_count": null,
   "metadata": {},
   "outputs": [],
   "source": []
  },
  {
   "cell_type": "code",
   "execution_count": null,
   "metadata": {},
   "outputs": [],
   "source": []
  }
 ],
 "metadata": {
  "kernelspec": {
   "display_name": "Python 3",
   "language": "python",
   "name": "python3"
  },
  "language_info": {
   "codemirror_mode": {
    "name": "ipython",
    "version": 3
   },
   "file_extension": ".py",
   "mimetype": "text/x-python",
   "name": "python",
   "nbconvert_exporter": "python",
   "pygments_lexer": "ipython3",
   "version": "3.8.5"
  }
 },
 "nbformat": 4,
 "nbformat_minor": 4
}
