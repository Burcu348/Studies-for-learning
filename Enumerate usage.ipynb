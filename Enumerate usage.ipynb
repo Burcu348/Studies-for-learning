{
 "cells": [
  {
   "cell_type": "raw",
   "id": "e584d5bf",
   "metadata": {},
   "source": [
    "# Mülakat sorusu\n",
    "Amaç : Aşağıdaki şekilde string değiştiren fonksiyon yazmak istiyoruz.\n",
    "\n",
    "before : \"hi my name is john and i am learning python\"\n",
    "after : \"Hi mY NaMe iS JoHn aNd i aM LeArNiNg pYtHoN\"\n",
    "\n",
    "# Girilen stringde çift indekstekileri büyük harf yap, tek indekstekileri küçük harf yap"
   ]
  },
  {
   "cell_type": "code",
   "execution_count": 3,
   "id": "cea4b690",
   "metadata": {},
   "outputs": [],
   "source": [
    "def alternating(string):\n",
    "    new_string = \"\"\n",
    "    for i in range(len(string)): #girilen stringin indekslerinde gez.(i indeksi temsil ediyor.)\n",
    "        if i % 2 == 0:\n",
    "            new_string += string[i].upper()\n",
    "        else:\n",
    "            new_string += string[i].lower()\n",
    "    print(new_string)       "
   ]
  },
  {
   "cell_type": "code",
   "execution_count": 4,
   "id": "b22512e7",
   "metadata": {},
   "outputs": [
    {
     "name": "stdout",
     "output_type": "stream",
     "text": [
      "Hi mY NaMe iS JoHn aNd i aM LeArNiNg pYtHoN\n"
     ]
    }
   ],
   "source": [
    "deneme = \"hi my name is john and i am learning python\"\n",
    "alternating(deneme)"
   ]
  },
  {
   "cell_type": "raw",
   "id": "2e70a49d",
   "metadata": {},
   "source": [
    "### Alternating fonksiyonunu enumerate ile yazma:"
   ]
  },
  {
   "cell_type": "code",
   "execution_count": 13,
   "id": "ccea517c",
   "metadata": {},
   "outputs": [],
   "source": [
    "def alternating_with_enumerate(string):\n",
    "    new_string = \"\"\n",
    "    for index, letter in enumerate(string): \n",
    "        if index % 2 == 0:\n",
    "            new_string += letter.upper()\n",
    "        else:\n",
    "            new_string += letter.lower()\n",
    "    print(new_string)   "
   ]
  },
  {
   "cell_type": "code",
   "execution_count": 14,
   "id": "1d9f0aa3",
   "metadata": {},
   "outputs": [
    {
     "name": "stdout",
     "output_type": "stream",
     "text": [
      "Hi mY NaMe iS JoHn aNd i aM LeArNiNg pYtHoN\n"
     ]
    }
   ],
   "source": [
    "alternating_with_enumerate(\"hi my name is john and i am learning python\")"
   ]
  },
  {
   "cell_type": "markdown",
   "id": "626cccb4",
   "metadata": {},
   "source": [
    "## Enumerate "
   ]
  },
  {
   "cell_type": "raw",
   "id": "3b47e9f1",
   "metadata": {},
   "source": [
    "Otomatik counter/indexer olarak geçer yani otomatik index üreticidir. For loop ile kullanılabilir. İteratif yöntemle nesneler üzerinde işlem yaparken aynı zamanda index bilgisini de takip etmek istiyorsak kullanabiliriz."
   ]
  },
  {
   "cell_type": "code",
   "execution_count": 1,
   "id": "35acfb3f",
   "metadata": {},
   "outputs": [
    {
     "name": "stdout",
     "output_type": "stream",
     "text": [
      "0 John\n",
      "1 Mark\n",
      "2 Venessa\n",
      "3 Mariam\n"
     ]
    }
   ],
   "source": [
    "students = [\"John\", \"Mark\", \"Venessa\", \"Mariam\"]\n",
    "\n",
    "for index, student in enumerate(students): #index bilgisi default olarak 0'dan başlar. Biz değiştirebiliriz.\n",
    "    print(index, student)"
   ]
  },
  {
   "cell_type": "code",
   "execution_count": 2,
   "id": "2c1f8510",
   "metadata": {},
   "outputs": [
    {
     "name": "stdout",
     "output_type": "stream",
     "text": [
      "1 John\n",
      "2 Mark\n",
      "3 Venessa\n",
      "4 Mariam\n"
     ]
    }
   ],
   "source": [
    "for index, student in enumerate(students, 1): #index'i 1'den başlatır böylece.\n",
    "    print(index, student)"
   ]
  },
  {
   "cell_type": "code",
   "execution_count": 3,
   "id": "2bb470da",
   "metadata": {},
   "outputs": [],
   "source": [
    "#Tek indekstekileri bir listeye, çift indekstekileri ayrı bir listeye atamak istersek\n",
    "\n",
    "A = []\n",
    "B = []\n",
    "for index, student in enumerate(students): \n",
    "    if index % 2 == 0:\n",
    "        A.append(student)\n",
    "    else:\n",
    "        B.append(student)"
   ]
  },
  {
   "cell_type": "code",
   "execution_count": 5,
   "id": "9f065b18",
   "metadata": {},
   "outputs": [
    {
     "data": {
      "text/plain": [
       "['John', 'Venessa']"
      ]
     },
     "execution_count": 5,
     "metadata": {},
     "output_type": "execute_result"
    }
   ],
   "source": [
    "A"
   ]
  },
  {
   "cell_type": "code",
   "execution_count": 6,
   "id": "aff09af3",
   "metadata": {},
   "outputs": [
    {
     "data": {
      "text/plain": [
       "['Mark', 'Mariam']"
      ]
     },
     "execution_count": 6,
     "metadata": {},
     "output_type": "execute_result"
    }
   ],
   "source": [
    "B"
   ]
  },
  {
   "cell_type": "raw",
   "id": "e802cfc6",
   "metadata": {},
   "source": [
    "### Mülakat Sorusu 1:\n",
    "\n",
    "- divide_students fonksiyonu yaz \n",
    "- Çift indekste yer alanları bir listeye, tek indekstekileri ayrı bir listeye al\n",
    "- Fakat bu iki liste tek bir liste olarak return olsun"
   ]
  },
  {
   "cell_type": "code",
   "execution_count": 11,
   "id": "1d8f0cf2",
   "metadata": {},
   "outputs": [],
   "source": [
    "def divide_students(students):\n",
    "    groups = [[] , []]\n",
    "    for index, student in enumerate(students):\n",
    "        if index % 2 == 0:\n",
    "            groups[0].append(student)\n",
    "        else:\n",
    "            groups[1].append(student)\n",
    "    return groups"
   ]
  },
  {
   "cell_type": "code",
   "execution_count": 12,
   "id": "056c6b3d",
   "metadata": {},
   "outputs": [
    {
     "data": {
      "text/plain": [
       "[['John', 'Venessa'], ['Mark', 'Mariam']]"
      ]
     },
     "execution_count": 12,
     "metadata": {},
     "output_type": "execute_result"
    }
   ],
   "source": [
    "students = [\"John\", \"Mark\", \"Venessa\", \"Mariam\"]\n",
    "divide_students(students)"
   ]
  },
  {
   "cell_type": "code",
   "execution_count": null,
   "id": "9d6a2dd9",
   "metadata": {},
   "outputs": [],
   "source": []
  }
 ],
 "metadata": {
  "kernelspec": {
   "display_name": "Python 3 (ipykernel)",
   "language": "python",
   "name": "python3"
  },
  "language_info": {
   "codemirror_mode": {
    "name": "ipython",
    "version": 3
   },
   "file_extension": ".py",
   "mimetype": "text/x-python",
   "name": "python",
   "nbconvert_exporter": "python",
   "pygments_lexer": "ipython3",
   "version": "3.9.12"
  }
 },
 "nbformat": 4,
 "nbformat_minor": 5
}
