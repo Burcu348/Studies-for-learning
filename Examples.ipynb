{
 "cells": [
  {
   "cell_type": "code",
   "execution_count": 1,
   "metadata": {},
   "outputs": [
    {
     "name": "stdout",
     "output_type": "stream",
     "text": [
      "1\n",
      "2\n",
      "Fizz\n",
      "4\n",
      "Buzz\n",
      "Fizz\n",
      "7\n",
      "8\n",
      "Fizz\n",
      "Buzz\n",
      "11\n",
      "Fizz\n",
      "13\n",
      "14\n",
      "FizzBuzz\n",
      "16\n",
      "17\n",
      "Fizz\n",
      "19\n",
      "Buzz\n",
      "Fizz\n",
      "22\n",
      "23\n",
      "Fizz\n",
      "Buzz\n",
      "26\n",
      "Fizz\n",
      "28\n",
      "29\n",
      "FizzBuzz\n",
      "31\n",
      "32\n",
      "Fizz\n",
      "34\n",
      "Buzz\n",
      "Fizz\n",
      "37\n",
      "38\n",
      "Fizz\n",
      "Buzz\n",
      "41\n",
      "Fizz\n",
      "43\n",
      "44\n",
      "FizzBuzz\n",
      "46\n",
      "47\n",
      "Fizz\n",
      "49\n",
      "Buzz\n"
     ]
    }
   ],
   "source": [
    "for x in range(1,51):\n",
    "    if x%3 == 0 and x%5 ==0:\n",
    "        print(\"FizzBuzz\")\n",
    "    elif x%3 ==0:\n",
    "        print(\"Fizz\")\n",
    "    elif x%5 ==0:\n",
    "        print(\"Buzz\")\n",
    "    else:\n",
    "        print(x)\n",
    "        "
   ]
  },
  {
   "cell_type": "code",
   "execution_count": 3,
   "metadata": {},
   "outputs": [
    {
     "name": "stdout",
     "output_type": "stream",
     "text": [
      "[1, 2, 3, 4, 5, 6, 7, 8]\n"
     ]
    }
   ],
   "source": [
    "a =[1,2,3,4,5]\n",
    "a.extend([6,7,8])\n",
    "print(a)\n"
   ]
  },
  {
   "cell_type": "code",
   "execution_count": 5,
   "metadata": {},
   "outputs": [
    {
     "name": "stdout",
     "output_type": "stream",
     "text": [
      "['a', 'b', 'c', 'd', 'e']\n"
     ]
    }
   ],
   "source": [
    "lst=[\"a\",\"b\",\"c\",\"d\"]\n",
    "lst.append(\"e\")\n",
    "print(lst)"
   ]
  },
  {
   "cell_type": "code",
   "execution_count": 7,
   "metadata": {},
   "outputs": [
    {
     "name": "stdout",
     "output_type": "stream",
     "text": [
      "[2, 3, 4, 5, 6, 7]\n"
     ]
    }
   ],
   "source": [
    "lst=[1,2,3,4,5,6]\n",
    "a=[x+1 for x in lst]\n",
    "print(a)\n"
   ]
  },
  {
   "cell_type": "code",
   "execution_count": 8,
   "metadata": {},
   "outputs": [
    {
     "name": "stdout",
     "output_type": "stream",
     "text": [
      "[3, 6, 9, 12, 15, 18]\n"
     ]
    }
   ],
   "source": [
    "nums=[1,2,3,4,5,6]\n",
    "b=[x*3 for x in nums]\n",
    "print(b)"
   ]
  },
  {
   "cell_type": "code",
   "execution_count": 9,
   "metadata": {},
   "outputs": [
    {
     "name": "stdout",
     "output_type": "stream",
     "text": [
      "[2, 4, 6, 8]\n"
     ]
    }
   ],
   "source": [
    "lst=[1,2,3,4,5,6,7,8,9]\n",
    "a=[i for i in lst if i%2==0]\n",
    "print(a)"
   ]
  },
  {
   "cell_type": "code",
   "execution_count": 10,
   "metadata": {},
   "outputs": [
    {
     "name": "stdout",
     "output_type": "stream",
     "text": [
      "[1, 2, 3, 4, 5]\n"
     ]
    }
   ],
   "source": [
    "b=[x for x in lst if x<6]\n",
    "print(b)"
   ]
  },
  {
   "cell_type": "code",
   "execution_count": 11,
   "metadata": {},
   "outputs": [
    {
     "name": "stdout",
     "output_type": "stream",
     "text": [
      "[(1, 5), (1, 4), (1, 3), (1, 2), (1, 1), (2, 5), (2, 4), (2, 3), (2, 2), (2, 1), (3, 5), (3, 4), (3, 3), (3, 2), (3, 1), (4, 5), (4, 4), (4, 3), (4, 2), (4, 1), (5, 5), (5, 4), (5, 3), (5, 2), (5, 1)]\n"
     ]
    }
   ],
   "source": [
    "nums=[1,2,3,4,5]\n",
    "nums_rev=[5,4,3,2,1]\n",
    "com=[(x,y) for x in nums for y in nums_rev]\n",
    "print(com)\n"
   ]
  },
  {
   "cell_type": "code",
   "execution_count": 12,
   "metadata": {},
   "outputs": [
    {
     "name": "stdout",
     "output_type": "stream",
     "text": [
      "\n",
      "Hello\n",
      "HelloHello\n",
      "HelloHelloHello\n",
      "HelloHelloHelloHello\n",
      "HelloHelloHelloHelloHello\n",
      "HelloHelloHelloHelloHelloHello\n",
      "HelloHelloHelloHelloHelloHelloHello\n"
     ]
    }
   ],
   "source": [
    "for i in range(8):\n",
    "    print(\"Hello\"*i)\n",
    "    "
   ]
  },
  {
   "cell_type": "code",
   "execution_count": 13,
   "metadata": {},
   "outputs": [
    {
     "name": "stdout",
     "output_type": "stream",
     "text": [
      "a\n",
      "b\n",
      "c\n",
      "d\n"
     ]
    }
   ],
   "source": [
    "my_list=[\"a\",\"b\",\"c\",\"d\"]\n",
    "\n",
    "for i in range(len(my_list)):\n",
    "    print(my_list[i])"
   ]
  },
  {
   "cell_type": "code",
   "execution_count": 14,
   "metadata": {},
   "outputs": [
    {
     "name": "stdout",
     "output_type": "stream",
     "text": [
      "c\n",
      "d\n"
     ]
    }
   ],
   "source": [
    "for i in range(2,len(my_list)):\n",
    "    print(my_list[i])"
   ]
  },
  {
   "cell_type": "code",
   "execution_count": 15,
   "metadata": {},
   "outputs": [
    {
     "name": "stdout",
     "output_type": "stream",
     "text": [
      "**\n",
      "***\n",
      "****\n",
      "*****\n",
      "******\n",
      "*******\n",
      "********\n"
     ]
    }
   ],
   "source": [
    "for i in range(2,9):\n",
    "    print(\"*\"*i)"
   ]
  },
  {
   "cell_type": "code",
   "execution_count": 16,
   "metadata": {},
   "outputs": [
    {
     "name": "stdout",
     "output_type": "stream",
     "text": [
      "H\n",
      "E\n",
      "L\n",
      "L\n",
      "O\n",
      "O\n",
      "O\n"
     ]
    }
   ],
   "source": [
    "word = \"Hellooo\"\n",
    "for char in word.upper():\n",
    "    print(char)\n",
    "       "
   ]
  },
  {
   "cell_type": "code",
   "execution_count": 17,
   "metadata": {},
   "outputs": [
    {
     "name": "stdout",
     "output_type": "stream",
     "text": [
      "1\n",
      "2\n",
      "3\n",
      "4\n"
     ]
    }
   ],
   "source": [
    "my_dict={\"a\":1, \"b\":2, \"c\":3, \"d\":4}\n",
    "for value in my_dict.values():\n",
    "    print(value)\n",
    "    "
   ]
  },
  {
   "cell_type": "code",
   "execution_count": 18,
   "metadata": {},
   "outputs": [
    {
     "name": "stdout",
     "output_type": "stream",
     "text": [
      "name Burcu\n",
      "surname Arslan\n",
      "age 21\n"
     ]
    }
   ],
   "source": [
    "dicts={\"name\":\"Burcu\", \"surname\":\"Arslan\", \"age\":21}\n",
    "\n",
    "for key,value in dicts.items():\n",
    "    print(key,value)"
   ]
  },
  {
   "cell_type": "code",
   "execution_count": 19,
   "metadata": {},
   "outputs": [
    {
     "name": "stdout",
     "output_type": "stream",
     "text": [
      "('name', 'Burcu')\n",
      "('surname', 'Arslan')\n",
      "('age', 21)\n"
     ]
    }
   ],
   "source": [
    "for pair in dicts.items():\n",
    "    print(pair)\n",
    "    "
   ]
  },
  {
   "cell_type": "code",
   "execution_count": 23,
   "metadata": {},
   "outputs": [
    {
     "name": "stdout",
     "output_type": "stream",
     "text": [
      "Odd: 1\n",
      "continue\n",
      "Odd: 3\n",
      "continue\n",
      "Odd: 5\n",
      "continue\n"
     ]
    }
   ],
   "source": [
    "lst=[1,2,3,4,5,6]\n",
    "for i in lst:\n",
    "    if i%2 ==0:\n",
    "        print(\"continue\")\n",
    "        continue\n",
    "    else:\n",
    "        print(\"Odd:\",i)\n",
    "    \n",
    "    \n",
    "    "
   ]
  },
  {
   "cell_type": "code",
   "execution_count": 24,
   "metadata": {},
   "outputs": [
    {
     "data": {
      "text/plain": [
       "120"
      ]
     },
     "execution_count": 24,
     "metadata": {},
     "output_type": "execute_result"
    }
   ],
   "source": [
    "def factorial(n):\n",
    "    if n==0 or n==1:\n",
    "        return 1 \n",
    "    else:\n",
    "        return n*factorial(n-1)\n",
    "    \n",
    "factorial(5)"
   ]
  },
  {
   "cell_type": "code",
   "execution_count": 25,
   "metadata": {},
   "outputs": [
    {
     "data": {
      "text/plain": [
       "2"
      ]
     },
     "execution_count": 25,
     "metadata": {},
     "output_type": "execute_result"
    }
   ],
   "source": [
    "factorial(2)"
   ]
  },
  {
   "cell_type": "code",
   "execution_count": 26,
   "metadata": {},
   "outputs": [
    {
     "data": {
      "text/plain": [
       "6"
      ]
     },
     "execution_count": 26,
     "metadata": {},
     "output_type": "execute_result"
    }
   ],
   "source": [
    "factorial(3)\n"
   ]
  },
  {
   "cell_type": "code",
   "execution_count": 27,
   "metadata": {},
   "outputs": [
    {
     "data": {
      "text/plain": [
       "1"
      ]
     },
     "execution_count": 27,
     "metadata": {},
     "output_type": "execute_result"
    }
   ],
   "source": [
    "def fibonacci(n):\n",
    "    if n==0 or n==1:\n",
    "        return n \n",
    "    else:\n",
    "        return fibonacci(n-1) + fibonacci(n-2)\n",
    "    \n",
    "fibonacci(2)\n",
    "\n"
   ]
  },
  {
   "cell_type": "code",
   "execution_count": 28,
   "metadata": {},
   "outputs": [
    {
     "data": {
      "text/plain": [
       "2"
      ]
     },
     "execution_count": 28,
     "metadata": {},
     "output_type": "execute_result"
    }
   ],
   "source": [
    "fibonacci(3)\n"
   ]
  },
  {
   "cell_type": "code",
   "execution_count": 29,
   "metadata": {},
   "outputs": [
    {
     "data": {
      "text/plain": [
       "3"
      ]
     },
     "execution_count": 29,
     "metadata": {},
     "output_type": "execute_result"
    }
   ],
   "source": [
    "fibonacci(4)"
   ]
  },
  {
   "cell_type": "code",
   "execution_count": 30,
   "metadata": {},
   "outputs": [
    {
     "data": {
      "text/plain": [
       "9"
      ]
     },
     "execution_count": 30,
     "metadata": {},
     "output_type": "execute_result"
    }
   ],
   "source": [
    "def find_power(a,b):\n",
    "    if b==0:\n",
    "        return 1\n",
    "    else:\n",
    "        return a*find_power(a,b-1)\n",
    "\n",
    "find_power(3,2)  \n"
   ]
  },
  {
   "cell_type": "code",
   "execution_count": 1,
   "metadata": {},
   "outputs": [],
   "source": [
    "comb1=[(x,y) for x in [1,2,3] for y in [4,3,1] if x!=y]"
   ]
  },
  {
   "cell_type": "code",
   "execution_count": 2,
   "metadata": {},
   "outputs": [
    {
     "data": {
      "text/plain": [
       "[(1, 4), (1, 3), (2, 4), (2, 3), (2, 1), (3, 4), (3, 1)]"
      ]
     },
     "execution_count": 2,
     "metadata": {},
     "output_type": "execute_result"
    }
   ],
   "source": [
    "comb1"
   ]
  },
  {
   "cell_type": "code",
   "execution_count": 3,
   "metadata": {},
   "outputs": [],
   "source": [
    "comb2=[]\n",
    "for x in [1,2,3,4,5]:\n",
    "    for y in [5,6,7,3,2,1]:\n",
    "        if x!=y:\n",
    "            comb2.append((x,y))"
   ]
  },
  {
   "cell_type": "code",
   "execution_count": 4,
   "metadata": {},
   "outputs": [
    {
     "data": {
      "text/plain": [
       "[(1, 5),\n",
       " (1, 6),\n",
       " (1, 7),\n",
       " (1, 3),\n",
       " (1, 2),\n",
       " (2, 5),\n",
       " (2, 6),\n",
       " (2, 7),\n",
       " (2, 3),\n",
       " (2, 1),\n",
       " (3, 5),\n",
       " (3, 6),\n",
       " (3, 7),\n",
       " (3, 2),\n",
       " (3, 1),\n",
       " (4, 5),\n",
       " (4, 6),\n",
       " (4, 7),\n",
       " (4, 3),\n",
       " (4, 2),\n",
       " (4, 1),\n",
       " (5, 6),\n",
       " (5, 7),\n",
       " (5, 3),\n",
       " (5, 2),\n",
       " (5, 1)]"
      ]
     },
     "execution_count": 4,
     "metadata": {},
     "output_type": "execute_result"
    }
   ],
   "source": [
    "comb2"
   ]
  },
  {
   "cell_type": "code",
   "execution_count": 5,
   "metadata": {},
   "outputs": [
    {
     "data": {
      "text/plain": [
       "['apple', 'banane', 'pineapple', 'strawberry']"
      ]
     },
     "execution_count": 5,
     "metadata": {},
     "output_type": "execute_result"
    }
   ],
   "source": [
    "basket=[\"apple\",\"banane\",\"pineapple\",\"strawberry\"]\n",
    "list(sorted(basket))"
   ]
  },
  {
   "cell_type": "code",
   "execution_count": 6,
   "metadata": {},
   "outputs": [
    {
     "name": "stdout",
     "output_type": "stream",
     "text": [
      "apple\n",
      "banane\n",
      "pineapple\n",
      "strawberry\n"
     ]
    }
   ],
   "source": [
    "basket=[\"apple\",\"banane\",\"pineapple\",\"strawberry\"]\n",
    "for i in sorted(basket):\n",
    "    print(i)\n",
    "    "
   ]
  },
  {
   "cell_type": "code",
   "execution_count": 8,
   "metadata": {},
   "outputs": [
    {
     "name": "stdout",
     "output_type": "stream",
     "text": [
      "[15]\n",
      "[25]\n",
      "[35]\n"
     ]
    }
   ],
   "source": [
    "dic={\"x\":list(range(11,21)),\"y\":list(range(21,31)),\"z\":list(range(31,40))}\n",
    "a=[]\n",
    "b=[]\n",
    "c=[]\n",
    "for num in dic[\"x\"]:\n",
    "    if num == dic[\"x\"][4]:\n",
    "        a.append(num)\n",
    "        \n",
    "for num in dic[\"y\"]:\n",
    "    if num == dic[\"y\"][4]:\n",
    "        b.append(num)\n",
    "        \n",
    "for num in dic[\"z\"]:\n",
    "    if num == dic[\"z\"][4]:\n",
    "        c.append(num)\n",
    "        \n",
    "print(a)\n",
    "print(b)\n",
    "print(c)\n"
   ]
  },
  {
   "cell_type": "code",
   "execution_count": 9,
   "metadata": {},
   "outputs": [
    {
     "name": "stdout",
     "output_type": "stream",
     "text": [
      "Enter a number: 65\n",
      "Enter a number: 54\n",
      "Enter a number:43\n",
      "Your sorted list is: [43, 54, 65]\n"
     ]
    }
   ],
   "source": [
    "l=[]\n",
    "\n",
    "x=int(input(\"Enter a number: \"))\n",
    "y=int(input(\"Enter a number: \"))\n",
    "z=int(input(\"Enter a number:\"))\n",
    "\n",
    "l.extend((x,y,z))\n",
    "l.sort()\n",
    "print(\"Your sorted list is:\",l)"
   ]
  },
  {
   "cell_type": "code",
   "execution_count": 12,
   "metadata": {},
   "outputs": [],
   "source": [
    "import random"
   ]
  },
  {
   "cell_type": "code",
   "execution_count": 14,
   "metadata": {},
   "outputs": [
    {
     "name": "stdout",
     "output_type": "stream",
     "text": [
      "1 ile 100 arasında değer giriniz: 36\n",
      "Daha yüksek bir sayı giriniz: \n",
      "1 ile 100 arasında değer giriniz: 46\n",
      "Daha yüksek bir sayı giriniz: \n",
      "1 ile 100 arasında değer giriniz: 54\n",
      "Daha yüksek bir sayı giriniz: \n",
      "1 ile 100 arasında değer giriniz: 78\n",
      "Daha küçük bir sayı giriniz: \n",
      "1 ile 100 arasında değer giriniz: 67\n",
      "Daha yüksek bir sayı giriniz: \n",
      "1 ile 100 arasında değer giriniz: 68\n",
      "Daha yüksek bir sayı giriniz: \n",
      "1 ile 100 arasında değer giriniz: 70\n",
      "Daha yüksek bir sayı giriniz: \n",
      "1 ile 100 arasında değer giriniz: 73\n",
      "Daha küçük bir sayı giriniz: \n",
      "1 ile 100 arasında değer giriniz: 72\n",
      "Rastgele girilen sayı 72!\n",
      "Tahmin sayınız: 9\n",
      "1 ile 100 arasında değer giriniz: 0\n",
      "Oyunu iptal ettiniz.\n"
     ]
    }
   ],
   "source": [
    "\n",
    "rand=random.randint(1,100)\n",
    "sayaç=0\n",
    "\n",
    "while True:\n",
    "    sayaç+=1\n",
    "    sayı=int(input(\"1 ile 100 arasında değer giriniz: \"))\n",
    "    if sayı==0:\n",
    "        print(\"Oyunu iptal ettiniz.\")\n",
    "        break\n",
    "    elif sayı < rand:\n",
    "        print(\"Daha yüksek bir sayı giriniz: \")\n",
    "        continue\n",
    "    elif sayı > rand:\n",
    "        print(\"Daha küçük bir sayı giriniz: \")\n",
    "        continue\n",
    "    else:\n",
    "        print(\"Rastgele girilen sayı {}!\".format(rand))\n",
    "        print(\"Tahmin sayınız: {}\".format(sayaç))"
   ]
  },
  {
   "cell_type": "code",
   "execution_count": 15,
   "metadata": {},
   "outputs": [
    {
     "name": "stdout",
     "output_type": "stream",
     "text": [
      "Enter the age: 21\n",
      "Enter the gender: F\n",
      "Mother\n"
     ]
    }
   ],
   "source": [
    "age=int(input(\"Enter the age: \"))\n",
    "gender=input(\"Enter the gender: \")\n",
    "if age < 18:\n",
    "    if gender == \"M\":\n",
    "        print(\"Son\")\n",
    "    else:\n",
    "        print(\"Daughter\")\n",
    "elif 18 <= age < 65:\n",
    "    if gender == \"M\":\n",
    "        print(\"Father\")\n",
    "    else:\n",
    "        print(\"Mother\")\n",
    "else:\n",
    "    if gender == \"M\":\n",
    "        print(\"Grandfather\")\n",
    "    else:\n",
    "        print(\"Grandmother\")"
   ]
  },
  {
   "cell_type": "code",
   "execution_count": 17,
   "metadata": {},
   "outputs": [
    {
     "name": "stdout",
     "output_type": "stream",
     "text": [
      "True\n"
     ]
    }
   ],
   "source": [
    "x=isinstance(5,int)\n",
    "print(x)"
   ]
  },
  {
   "cell_type": "code",
   "execution_count": 1,
   "metadata": {},
   "outputs": [],
   "source": [
    "def getSum(n):\n",
    "    sum = 0\n",
    "    for digit in str(n):\n",
    "        sum += int(digit)\n",
    "    return sum"
   ]
  },
  {
   "cell_type": "code",
   "execution_count": 2,
   "metadata": {},
   "outputs": [
    {
     "name": "stdout",
     "output_type": "stream",
     "text": [
      "15\n"
     ]
    }
   ],
   "source": [
    "n = 12345\n",
    "print(getSum(n))\n"
   ]
  },
  {
   "cell_type": "code",
   "execution_count": 3,
   "metadata": {},
   "outputs": [
    {
     "data": {
      "text/plain": [
       "44"
      ]
     },
     "execution_count": 3,
     "metadata": {},
     "output_type": "execute_result"
    }
   ],
   "source": [
    "getSum(5467589)"
   ]
  },
  {
   "cell_type": "code",
   "execution_count": null,
   "metadata": {},
   "outputs": [],
   "source": []
  }
 ],
 "metadata": {
  "kernelspec": {
   "display_name": "Python 3",
   "language": "python",
   "name": "python3"
  },
  "language_info": {
   "codemirror_mode": {
    "name": "ipython",
    "version": 3
   },
   "file_extension": ".py",
   "mimetype": "text/x-python",
   "name": "python",
   "nbconvert_exporter": "python",
   "pygments_lexer": "ipython3",
   "version": "3.8.5"
  }
 },
 "nbformat": 4,
 "nbformat_minor": 4
}
