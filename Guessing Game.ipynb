{
 "cells": [
  {
   "cell_type": "raw",
   "metadata": {},
   "source": [
    "Let's use while loops to create a guessing game.\n",
    "The challenge:\n",
    "Write a program that picks a random integer from 1 to 100,and has players guess the number.The rules are:\n",
    "1.If a player's guess is less than 1 or greater than ,say \"OUT OF BOUNDS\"\n",
    "2.On a player's first turn ,if their guess is \n",
    "   *within 10 of the number ,return \"WARM!\"\n",
    "   *further than 10 away from the number ,return \"COLD!\"\n",
    "3.On all subsequent turns,if a guess is \n",
    "   *closer to the number than the previous guess return \"WARMER!\"\n",
    "       *farther from the number than the previous guess return \"COLDER!\"\n",
    "4.When the players  guess equals the number ,tell them they've guessed correctly and how many guesses it took!\n",
    "\n"
   ]
  },
  {
   "cell_type": "markdown",
   "metadata": {},
   "source": [
    "First,pick a random integer from 1 to 100 using the random module and assign it to a variable \n",
    "Note:random.randint(a,b) returns a random integer in range [a,b] ,including both and points."
   ]
  },
  {
   "cell_type": "code",
   "execution_count": null,
   "metadata": {},
   "outputs": [],
   "source": [
    "import random\n",
    "\n",
    "num=random.randint(1,100)"
   ]
  },
  {
   "cell_type": "markdown",
   "metadata": {},
   "source": [
    "Next,print an introduction to the game and explain the rules"
   ]
  },
  {
   "cell_type": "code",
   "execution_count": 1,
   "metadata": {},
   "outputs": [
    {
     "name": "stdout",
     "output_type": "stream",
     "text": [
      "Welcome to Guessing Game\n",
      "I'm thinking of a number between 1 and 100\n",
      "If your guess is more than 10 away from my number,I'll tell you COLD\n",
      "If your guess is within 10 of my number,I'll tell you WARM\n",
      "If your guess is farther than your most recent guess,I'll tell you COLDER\n",
      "If your guess is closer than your most recent guess,I'll tell you WARMER\n",
      "Let's play\n"
     ]
    }
   ],
   "source": [
    "print(\"Welcome to Guessing Game\")\n",
    "print(\"I'm thinking of a number between 1 and 100\")\n",
    "print(\"If your guess is more than 10 away from my number,I'll tell you COLD\")\n",
    "print(\"If your guess is within 10 of my number,I'll tell you WARM\")\n",
    "print(\"If your guess is farther than your most recent guess,I'll tell you COLDER\")\n",
    "print(\"If your guess is closer than your most recent guess,I'll tell you WARMER\")\n",
    "print(\"Let's play\")"
   ]
  },
  {
   "cell_type": "markdown",
   "metadata": {},
   "source": [
    "Create a list to store guesses\n",
    "\n",
    "Hint:zero is a good placeholder value.It's useful because it evaluates to \"False\""
   ]
  },
  {
   "cell_type": "code",
   "execution_count": null,
   "metadata": {},
   "outputs": [],
   "source": [
    "guesses=[0]"
   ]
  },
  {
   "cell_type": "markdown",
   "metadata": {},
   "source": [
    "Write a while loop that asks for a valid guess.Test it a few times to make sure it works."
   ]
  },
  {
   "cell_type": "code",
   "execution_count": null,
   "metadata": {},
   "outputs": [],
   "source": [
    "while  True:\n",
    "    \n",
    "    guess=int(input(\"Enter a number!\"))\n",
    "    \n",
    "    if guess<1 or guess>100:\n",
    "        print('OUT OF BOUNDS!Please try again:')\n",
    "        continue\n",
    "    break\n",
    "\n",
    "        \n",
    "    \n",
    "              "
   ]
  },
  {
   "cell_type": "markdown",
   "metadata": {},
   "source": [
    "Write a while loop that compares the player's guess to our number.If the player guesses correctly ,break from the loop.Otherwise,tell the player if they are warmer or colder,and continue asking for guesses."
   ]
  },
  {
   "cell_type": "code",
   "execution_count": null,
   "metadata": {},
   "outputs": [],
   "source": [
    "while  True:\n",
    "    \n",
    "    guess=int(input(\"Enter a number!\"))\n",
    "    \n",
    "    if guess<1 or guess>100:\n",
    "        print('OUT OF BOUNDS!Please try again:')\n",
    "        continue\n",
    "    \n",
    "    if guess==num:\n",
    "        print(f'Congratulations,you guessed it in only {len(guesses)} GUESSES !!')\n",
    "    \n",
    "    break\n",
    "    \n",
    "    \n",
    "    if guesses[-2]:\n",
    "        if abs(num-guess)<abs(num-guesses[-2]):\n",
    "            print('WARMER!')\n",
    "            \n",
    "        else:\n",
    "            print('COLDER')\n",
    "    \n",
    "    else:\n",
    "        if abs(num-guess)<=10:\n",
    "            print('WARM!')\n",
    "        \n",
    "        else:\n",
    "            print('COLD!')"
   ]
  },
  {
   "cell_type": "code",
   "execution_count": null,
   "metadata": {},
   "outputs": [],
   "source": []
  }
 ],
 "metadata": {
  "kernelspec": {
   "display_name": "Python 3",
   "language": "python",
   "name": "python3"
  },
  "language_info": {
   "codemirror_mode": {
    "name": "ipython",
    "version": 3
   },
   "file_extension": ".py",
   "mimetype": "text/x-python",
   "name": "python",
   "nbconvert_exporter": "python",
   "pygments_lexer": "ipython3",
   "version": "3.8.5"
  }
 },
 "nbformat": 4,
 "nbformat_minor": 4
}
