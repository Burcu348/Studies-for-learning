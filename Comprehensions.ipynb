{
 "cells": [
  {
   "cell_type": "markdown",
   "id": "f2921b21",
   "metadata": {},
   "source": [
    "# Comprehensions"
   ]
  },
  {
   "cell_type": "raw",
   "id": "e6799bba",
   "metadata": {},
   "source": [
    "## Comprehension yapısı içinde tek bir if bloğu kullanıyorsak yani else ile birlikte kullanmıyorsak if yapısı en sağda(köşede) yazılır. Ama else ile birlikte kullanıyorsak for bloğu en sağda kalır if else onun önüne yazılır."
   ]
  },
  {
   "cell_type": "markdown",
   "id": "ffca996e",
   "metadata": {},
   "source": [
    "## List Comprehensions"
   ]
  },
  {
   "cell_type": "code",
   "execution_count": 11,
   "id": "069395a2",
   "metadata": {},
   "outputs": [
    {
     "data": {
      "text/plain": [
       "[2000, 4000, 6000, 8000, 10000]"
      ]
     },
     "execution_count": 11,
     "metadata": {},
     "output_type": "execute_result"
    }
   ],
   "source": [
    "salaries = [1000, 2000, 3000, 4000, 5000]\n",
    "\n",
    "[salary * 2 for salary in salaries]"
   ]
  },
  {
   "cell_type": "code",
   "execution_count": 12,
   "id": "47c6783a",
   "metadata": {},
   "outputs": [
    {
     "data": {
      "text/plain": [
       "[2000, 4000]"
      ]
     },
     "execution_count": 12,
     "metadata": {},
     "output_type": "execute_result"
    }
   ],
   "source": [
    "[salary * 2 for salary in salaries if salary < 3000]"
   ]
  },
  {
   "cell_type": "code",
   "execution_count": 1,
   "id": "6743c1d3",
   "metadata": {},
   "outputs": [
    {
     "data": {
      "text/plain": [
       "['john', 'MARK', 'venessa', 'MARIAM']"
      ]
     },
     "execution_count": 1,
     "metadata": {},
     "output_type": "execute_result"
    }
   ],
   "source": [
    "students = [\"John\",\"Mark\",\"Venessa\",\"Mariam\"]\n",
    "student_no = [\"John\",\"Venessa\"]\n",
    "\n",
    "[student.lower() if student in student_no else student.upper() for student in students]"
   ]
  },
  {
   "cell_type": "code",
   "execution_count": 8,
   "id": "ee35546e",
   "metadata": {},
   "outputs": [
    {
     "data": {
      "text/plain": [
       "[2400.0, 4800.0, 7200.0, 4800.0, 6000.0]"
      ]
     },
     "execution_count": 8,
     "metadata": {},
     "output_type": "execute_result"
    }
   ],
   "source": [
    "salaries = [1000, 2000, 3000, 4000, 5000]\n",
    "\n",
    "def new_salary(x):\n",
    "    return x * 20 / 100 + x\n",
    "\n",
    "null_list = [] \n",
    "\n",
    "for salary in salaries:\n",
    "    if salary > 3000:\n",
    "        null_list.append(new_salary(salary))\n",
    "    else:\n",
    "        null_list.append(new_salary(salary * 2))\n",
    "        \n",
    "null_list"
   ]
  },
  {
   "cell_type": "code",
   "execution_count": 13,
   "id": "9cea0f0c",
   "metadata": {},
   "outputs": [
    {
     "data": {
      "text/plain": [
       "[2400.0, 4800.0, 3600.0, 4800.0, 6000.0]"
      ]
     },
     "execution_count": 13,
     "metadata": {},
     "output_type": "execute_result"
    }
   ],
   "source": [
    "#with list comprehension\n",
    "[new_salary(salary * 2) if salary < 3000 else new_salary(salary) for salary in salaries]"
   ]
  },
  {
   "cell_type": "markdown",
   "id": "de2d4482",
   "metadata": {},
   "source": [
    "## Dict Comprehensions"
   ]
  },
  {
   "cell_type": "code",
   "execution_count": 15,
   "id": "7baf8a17",
   "metadata": {},
   "outputs": [
    {
     "data": {
      "text/plain": [
       "{'a': 1, 'b': 4, 'c': 9, 'd': 16}"
      ]
     },
     "execution_count": 15,
     "metadata": {},
     "output_type": "execute_result"
    }
   ],
   "source": [
    "dictionary = {'a' : 1,\n",
    "              'b' : 2,\n",
    "              'c' : 3,\n",
    "              'd' : 4}\n",
    "\n",
    "{k : v ** 2 for (k,v) in dictionary.items()}"
   ]
  },
  {
   "cell_type": "code",
   "execution_count": 16,
   "id": "d96be9cb",
   "metadata": {},
   "outputs": [
    {
     "data": {
      "text/plain": [
       "{'A': 1, 'B': 2, 'C': 3, 'D': 4}"
      ]
     },
     "execution_count": 16,
     "metadata": {},
     "output_type": "execute_result"
    }
   ],
   "source": [
    "{k.upper() : v for (k,v) in dictionary.items()}"
   ]
  },
  {
   "cell_type": "code",
   "execution_count": 17,
   "id": "3b374e91",
   "metadata": {},
   "outputs": [
    {
     "data": {
      "text/plain": [
       "{'A': 1, 'B': 4, 'C': 9, 'D': 16}"
      ]
     },
     "execution_count": 17,
     "metadata": {},
     "output_type": "execute_result"
    }
   ],
   "source": [
    "{k.upper() : v **2 for (k,v) in dictionary.items()}"
   ]
  },
  {
   "cell_type": "raw",
   "id": "2804a12b",
   "metadata": {},
   "source": [
    "ÖRNEK : Mülakat Sorusu \n",
    "\n",
    "Amaç : Verilen bir listedeki çift sayıların karesi alınarak bir sözlüğe eklenmelidir."
   ]
  },
  {
   "cell_type": "code",
   "execution_count": 18,
   "id": "6d58011f",
   "metadata": {},
   "outputs": [
    {
     "data": {
      "text/plain": [
       "{0: 0, 2: 4, 4: 16, 6: 36, 8: 64}"
      ]
     },
     "execution_count": 18,
     "metadata": {},
     "output_type": "execute_result"
    }
   ],
   "source": [
    "numbers = range(10)\n",
    "\n",
    "#{sayı : sayı **2 for sayı in liste if sayı % 2 == 0}\n",
    "{n : n **2 for n in numbers if n % 2 == 0}"
   ]
  },
  {
   "cell_type": "raw",
   "id": "f92a75ec",
   "metadata": {},
   "source": [
    "Comprehension kullanmadan yapsaydık bu şekilde olurdu:\n",
    "\n",
    "numbers = range(10)\n",
    "new_dict = {}\n",
    "for n in numbers:\n",
    "    if n % == 0:\n",
    "        new_dict[n] = n ** 2"
   ]
  }
 ],
 "metadata": {
  "kernelspec": {
   "display_name": "Python 3 (ipykernel)",
   "language": "python",
   "name": "python3"
  },
  "language_info": {
   "codemirror_mode": {
    "name": "ipython",
    "version": 3
   },
   "file_extension": ".py",
   "mimetype": "text/x-python",
   "name": "python",
   "nbconvert_exporter": "python",
   "pygments_lexer": "ipython3",
   "version": "3.9.12"
  }
 },
 "nbformat": 4,
 "nbformat_minor": 5
}
