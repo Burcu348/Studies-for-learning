{
 "cells": [
  {
   "cell_type": "code",
   "execution_count": 2,
   "metadata": {},
   "outputs": [
    {
     "name": "stdout",
     "output_type": "stream",
     "text": [
      "Rock,Paper,Scissors?Paper\n",
      "You lose! Scissors cut Paper\n"
     ]
    }
   ],
   "source": [
    "from random import randint\n",
    "\n",
    "t=[\"Rock\",\"Paper\",\"Scissors\"]\n",
    "computer=t[randint(0,2)]\n",
    "player = False\n",
    "\n",
    "while player == False:\n",
    "    player = input(\"Rock,Paper,Scissors?\")\n",
    "    if player == computer:\n",
    "        print(\"Tie!\")\n",
    "    elif player == \"Rock\":\n",
    "        if computer == \"Paper\":\n",
    "            print(\"You lose!\",computer,\"covers\",player)\n",
    "        else:\n",
    "            print(\"You win!\",player,\"smashes\",computer)\n",
    "    elif player == \"Paper\":\n",
    "        if computer == \"Scissors\":\n",
    "            print(\"You lose!\",computer,\"cut\",player)\n",
    "        else:\n",
    "            print(\"You win!\",player,\"covers\",computer)\n",
    "    elif player == \"Scissors\":\n",
    "        if computer == \"Rock\":\n",
    "            print(\"You lose!\",computer,\"smashes\",player)\n",
    "        else:\n",
    "            print(\"You win!\",player,\"cut\",computer)\n",
    "        \n"
   ]
  },
  {
   "cell_type": "markdown",
   "metadata": {},
   "source": [
    "#Stone,Paper,Scissors Game in Python!!! "
   ]
  },
  {
   "cell_type": "code",
   "execution_count": null,
   "metadata": {},
   "outputs": [],
   "source": [
    "import sys\n",
    "\n",
    "user1 = input(\"What's your name?: \")\n",
    "user2 = input(\"And your name?: \")\n",
    "user1_answer = input(\"{},do you want to choose rock,paper or scissors?:\".format(user1))\n",
    "user2_answer = input(\"{},do you want to choose rock,paper or scissors?:\".format(user2))\n",
    "\n",
    "def compare(u1,u2):\n",
    "    if u1 == u2:\n",
    "        return \"It's a tie!\"\n",
    "    elif u1 == \"rock\":\n",
    "        if u2 == \"scissors\":\n",
    "            return(user1,\"wins!\")\n",
    "        else:\n",
    "            return(user2,\"wins!\")\n",
    "    elif u1 == \"paper\":\n",
    "        if u2 == \"rock\":\n",
    "            return(user1,\"wins!\")\n",
    "        else:\n",
    "            return(user2,\"wins!\")\n",
    "    elif u1 == \"scissors\":\n",
    "        if u2 == \"paper\":\n",
    "            return(user1,\"wins!\")\n",
    "        else:\n",
    "            return(user2,\"wins!\")\n",
    "    else:\n",
    "        return(\"Invalid input!You have not entered rock,paper or scissors,try again.\")\n",
    "        sys.exit()\n",
    "print(compare(user1_answer,user2_answer)) "
   ]
  },
  {
   "cell_type": "markdown",
   "metadata": {},
   "source": [
    "Python program to check Prime Number!!!"
   ]
  },
  {
   "cell_type": "code",
   "execution_count": 1,
   "metadata": {},
   "outputs": [
    {
     "name": "stdout",
     "output_type": "stream",
     "text": [
      "Enter a number: 97\n",
      "97 is a prime number\n"
     ]
    }
   ],
   "source": [
    "num=int(input(\"Enter a number: \"))#prime numbers are greater than 1\n",
    "\n",
    "if num > 1:\n",
    "    for i in range(2,num):\n",
    "        if (num % i) == 0:\n",
    "            print(num,\"is not a prime number!\")\n",
    "            break\n",
    "    else:\n",
    "        print(num,\"is a prime number\")\n",
    "        \n",
    "else:     ##if input is less than or equal to 1,is not prime\n",
    "    print(num,\"is not a prime number!\")"
   ]
  },
  {
   "cell_type": "markdown",
   "metadata": {},
   "source": [
    "Python program to count the number of each vowel!!!"
   ]
  },
  {
   "cell_type": "code",
   "execution_count": null,
   "metadata": {},
   "outputs": [],
   "source": [
    "vowels=\"aeiou\"\n",
    "ip_str=\"Hello,welcome at wecodeinpython\"\n",
    "ip_str=ip_str.casefold()\n",
    "count={}.fromkeys(vowels,0)\n",
    "\n",
    "for char in ip_str:\n",
    "    if char in count:\n",
    "        count[char] += 1\n",
    "    print(count)"
   ]
  },
  {
   "cell_type": "code",
   "execution_count": null,
   "metadata": {},
   "outputs": [],
   "source": [
    "def compute_hcf(x,y):\n",
    "    if x > y:\n",
    "        smaller = y\n",
    "    else:\n",
    "        smaller = x\n",
    "    for i in range(1,smaller+1):\n",
    "        if (x%i == 0) and (y%i == 0):\n",
    "            hcf = i\n",
    "    return hcf\n",
    "num1=54\n",
    "num2=24\n",
    "print(\"The H.C.F. is\",compute_hcf(num1,num2))"
   ]
  },
  {
   "cell_type": "code",
   "execution_count": 1,
   "metadata": {},
   "outputs": [
    {
     "name": "stdout",
     "output_type": "stream",
     "text": [
      "Sayı giriniz: 25\n",
      "25 Mükemmel sayı değildir.\n"
     ]
    }
   ],
   "source": [
    "sayı=int(input(\"Sayı giriniz: \")) #Bölenlerinin toplamı kendisini veriyorsa mükemmel sayıdır.\n",
    "\n",
    "adet=0\n",
    "for i in range(1,sayı):\n",
    "    if sayı%i == 0:\n",
    "        adet+=i\n",
    "if adet==sayı:\n",
    "    print(sayı,\"Mükemmel sayıdır\")\n",
    "else:\n",
    "    print(sayı,\"Mükemmel sayı değildir.\")"
   ]
  },
  {
   "cell_type": "code",
   "execution_count": null,
   "metadata": {},
   "outputs": [],
   "source": []
  }
 ],
 "metadata": {
  "kernelspec": {
   "display_name": "Python 3",
   "language": "python",
   "name": "python3"
  },
  "language_info": {
   "codemirror_mode": {
    "name": "ipython",
    "version": 3
   },
   "file_extension": ".py",
   "mimetype": "text/x-python",
   "name": "python",
   "nbconvert_exporter": "python",
   "pygments_lexer": "ipython3",
   "version": "3.8.5"
  }
 },
 "nbformat": 4,
 "nbformat_minor": 4
}
