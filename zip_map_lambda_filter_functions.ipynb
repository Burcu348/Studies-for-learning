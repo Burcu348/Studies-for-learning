{
 "cells": [
  {
   "cell_type": "markdown",
   "id": "06c7d506",
   "metadata": {},
   "source": [
    "### Zip Function Usage"
   ]
  },
  {
   "cell_type": "raw",
   "id": "fd737752",
   "metadata": {},
   "source": [
    "Farklı listelerin elemanlarını match etmek yani eşlemek istiyorsak zip fonksiyonunu kullanırız. Eşleştirmek istediğimiz listeleri parametre olarak veririz.\n",
    "Büyük çoğunlukla list(zip())) şeklinde kullanılır. "
   ]
  },
  {
   "cell_type": "code",
   "execution_count": 1,
   "id": "d0e5456f",
   "metadata": {},
   "outputs": [
    {
     "data": {
      "text/plain": [
       "[('John', 'mathematics', 23),\n",
       " ('Mark', 'statistics', 30),\n",
       " ('Venessa', 'physics', 26),\n",
       " ('Mariam', 'astronomy', 22)]"
      ]
     },
     "execution_count": 1,
     "metadata": {},
     "output_type": "execute_result"
    }
   ],
   "source": [
    "#bu üç farklı listenin elemanlarını eşlemek istiyorsak\n",
    "students = [\"John\" , \"Mark\" , \"Venessa\" , \"Mariam\"]\n",
    "departments = [\"mathematics\" , \"statistics\" , \"physics\" , \"astronomy\"]\n",
    "ages = [23, 30 , 26 , 22]\n",
    "\n",
    "list(zip(students, departments, ages))"
   ]
  },
  {
   "cell_type": "markdown",
   "id": "38fb9410",
   "metadata": {},
   "source": [
    "### lambda usage"
   ]
  },
  {
   "cell_type": "raw",
   "id": "e3a5ad2a",
   "metadata": {},
   "source": [
    "- kullan-at fonksiyondur.\n",
    "- isim vermeden fonksiyon tanımlar."
   ]
  },
  {
   "cell_type": "code",
   "execution_count": null,
   "id": "02e42c74",
   "metadata": {},
   "outputs": [],
   "source": [
    "# normal form\n",
    "def add_one(x):\n",
    "    return x + 1"
   ]
  },
  {
   "cell_type": "code",
   "execution_count": null,
   "id": "894c315f",
   "metadata": {},
   "outputs": [
    {
     "data": {
      "text/plain": [
       "<function __main__.<lambda>(x)>"
      ]
     },
     "execution_count": 3,
     "metadata": {},
     "output_type": "execute_result"
    }
   ],
   "source": [
    "# with lambda\n",
    "lambda x: x + 1"
   ]
  },
  {
   "cell_type": "code",
   "execution_count": 4,
   "id": "2cc5cd8b",
   "metadata": {},
   "outputs": [],
   "source": [
    "def summer(a,b):\n",
    "    return a + b"
   ]
  },
  {
   "cell_type": "code",
   "execution_count": 6,
   "id": "c1c37378",
   "metadata": {},
   "outputs": [
    {
     "data": {
      "text/plain": [
       "11"
      ]
     },
     "execution_count": 6,
     "metadata": {},
     "output_type": "execute_result"
    }
   ],
   "source": [
    "new_sum = lambda a, b: a + b\n",
    "new_sum(5,6)"
   ]
  },
  {
   "cell_type": "markdown",
   "id": "b8bc4e9e",
   "metadata": {},
   "source": [
    "### map function usage"
   ]
  },
  {
   "cell_type": "raw",
   "id": "fb983c90",
   "metadata": {},
   "source": [
    "döngü yazmaya gerek kalmadan verilen liste üzerinde gezer ve yapması gereken işlemi yapar."
   ]
  },
  {
   "cell_type": "code",
   "execution_count": 7,
   "id": "31871bcd",
   "metadata": {},
   "outputs": [
    {
     "name": "stdout",
     "output_type": "stream",
     "text": [
      "1200.0\n",
      "2400.0\n",
      "3600.0\n",
      "4800.0\n",
      "6000.0\n"
     ]
    }
   ],
   "source": [
    "salaries = [1000, 2000, 3000, 4000, 5000]\n",
    "\n",
    "#döngü kullanarak yapımı\n",
    "def new_salary(x):\n",
    "    return x * 20 / 100 + x\n",
    "\n",
    "for salary in salaries:\n",
    "    print(new_salary(salary))"
   ]
  },
  {
   "cell_type": "code",
   "execution_count": 9,
   "id": "42b416fd",
   "metadata": {},
   "outputs": [
    {
     "data": {
      "text/plain": [
       "[1200.0, 2400.0, 3600.0, 4800.0, 6000.0]"
      ]
     },
     "execution_count": 9,
     "metadata": {},
     "output_type": "execute_result"
    }
   ],
   "source": [
    "salaries = [1000, 2000, 3000, 4000, 5000]\n",
    "\n",
    "def new_salary(x):\n",
    "    return x * 20 / 100 + x\n",
    "\n",
    "#döngü kurmaya gerek kalmadan map fonksiyonu ile yapımı\n",
    "list(map(new_salary,salaries))"
   ]
  },
  {
   "cell_type": "code",
   "execution_count": 10,
   "id": "89b4de32",
   "metadata": {},
   "outputs": [
    {
     "data": {
      "text/plain": [
       "[1200.0, 2400.0, 3600.0, 4800.0, 6000.0]"
      ]
     },
     "execution_count": 10,
     "metadata": {},
     "output_type": "execute_result"
    }
   ],
   "source": [
    "#karmaşık kod blokları içinde daha sonra kullanmayacağımız fonksiyon gerekirse bu kullanım daha işlevseldir.\n",
    "list(map(lambda x: x * 20 / 100 + x, salaries))"
   ]
  },
  {
   "cell_type": "markdown",
   "id": "bb2b63c5",
   "metadata": {},
   "source": [
    "### Filter"
   ]
  },
  {
   "cell_type": "code",
   "execution_count": 11,
   "id": "7dc6915d",
   "metadata": {},
   "outputs": [
    {
     "data": {
      "text/plain": [
       "[2, 4, 6, 8, 10]"
      ]
     },
     "execution_count": 11,
     "metadata": {},
     "output_type": "execute_result"
    }
   ],
   "source": [
    "list_store = [1, 2, 3, 4, 5, 6, 7, 8, 9, 10]\n",
    "list(filter(lambda x: x % 2 ==0, list_store)) #çift sayıları yazdırdı, filtreleme yaptı."
   ]
  },
  {
   "cell_type": "code",
   "execution_count": null,
   "id": "8d9714fc",
   "metadata": {},
   "outputs": [],
   "source": []
  }
 ],
 "metadata": {
  "kernelspec": {
   "display_name": "Python 3 (ipykernel)",
   "language": "python",
   "name": "python3"
  },
  "language_info": {
   "codemirror_mode": {
    "name": "ipython",
    "version": 3
   },
   "file_extension": ".py",
   "mimetype": "text/x-python",
   "name": "python",
   "nbconvert_exporter": "python",
   "pygments_lexer": "ipython3",
   "version": "3.9.12"
  }
 },
 "nbformat": 4,
 "nbformat_minor": 5
}
