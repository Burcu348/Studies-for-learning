{
 "cells": [
  {
   "cell_type": "markdown",
   "id": "1ecccee4",
   "metadata": {},
   "source": [
    "## Pandas"
   ]
  },
  {
   "cell_type": "markdown",
   "id": "00715153",
   "metadata": {},
   "source": [
    "- Pandas veri biliminin excel'i olarak bilinir."
   ]
  },
  {
   "cell_type": "markdown",
   "id": "3e33cd3e",
   "metadata": {},
   "source": [
    "### Series/Seriler"
   ]
  },
  {
   "cell_type": "markdown",
   "id": "6cfac4c1",
   "metadata": {},
   "source": [
    "- Numpy array'i gibi düşünülebilir ancak daha esnek bir yapıdır.\n",
    "- Serileri birçok farklı veri yapısından oluşturabiliriz."
   ]
  },
  {
   "cell_type": "code",
   "execution_count": 8,
   "id": "24c8a308",
   "metadata": {},
   "outputs": [],
   "source": [
    "import numpy as np\n",
    "import pandas as pd "
   ]
  },
  {
   "cell_type": "code",
   "execution_count": 3,
   "id": "ec0c1b47",
   "metadata": {},
   "outputs": [
    {
     "data": {
      "text/plain": [
       "Atıl      50\n",
       "Zeynep    40\n",
       "Mehmet    30\n",
       "dtype: int64"
      ]
     },
     "execution_count": 3,
     "metadata": {},
     "output_type": "execute_result"
    }
   ],
   "source": [
    "mydict = {\"Atıl\" : 50 , \"Zeynep\" : 40 , \"Mehmet\" : 30}\n",
    "# Bu işlem sanki asıl veriler yaşlar isimler ise label'mış gibi sonuç veriyor. \n",
    "pd.Series(mydict)"
   ]
  },
  {
   "cell_type": "code",
   "execution_count": 5,
   "id": "4d8b4b3e",
   "metadata": {},
   "outputs": [
    {
     "data": {
      "text/plain": [
       "0    50\n",
       "1    40\n",
       "2    30\n",
       "dtype: int64"
      ]
     },
     "execution_count": 5,
     "metadata": {},
     "output_type": "execute_result"
    }
   ],
   "source": [
    "myages = [50,40,30]\n",
    "mynames = [\"Atıl\" , \"Zeynep\" , \"Mehmet\"]\n",
    "\n",
    "pd.Series(myages)"
   ]
  },
  {
   "cell_type": "code",
   "execution_count": 6,
   "id": "41e9cb41",
   "metadata": {},
   "outputs": [
    {
     "data": {
      "text/plain": [
       "Atıl      50\n",
       "Zeynep    40\n",
       "Mehmet    30\n",
       "dtype: int64"
      ]
     },
     "execution_count": 6,
     "metadata": {},
     "output_type": "execute_result"
    }
   ],
   "source": [
    "pd.Series(myages,mynames)"
   ]
  },
  {
   "cell_type": "code",
   "execution_count": 7,
   "id": "b769a556",
   "metadata": {},
   "outputs": [
    {
     "data": {
      "text/plain": [
       "Atıl      50\n",
       "Zeynep    40\n",
       "Mehmet    30\n",
       "dtype: int64"
      ]
     },
     "execution_count": 7,
     "metadata": {},
     "output_type": "execute_result"
    }
   ],
   "source": [
    "pd.Series(data=myages , index=mynames)"
   ]
  },
  {
   "cell_type": "code",
   "execution_count": 9,
   "id": "b02b90f5",
   "metadata": {},
   "outputs": [
    {
     "data": {
      "text/plain": [
       "0    50\n",
       "1    40\n",
       "2    30\n",
       "dtype: int32"
      ]
     },
     "execution_count": 9,
     "metadata": {},
     "output_type": "execute_result"
    }
   ],
   "source": [
    "nmpyarr = np.array([50,40,30])\n",
    "\n",
    "pd.Series(nmpyarr)"
   ]
  },
  {
   "cell_type": "code",
   "execution_count": 10,
   "id": "fcc8c897",
   "metadata": {},
   "outputs": [
    {
     "data": {
      "text/plain": [
       "Atıl      50\n",
       "Zeynep    40\n",
       "Mehmet    30\n",
       "dtype: int32"
      ]
     },
     "execution_count": 10,
     "metadata": {},
     "output_type": "execute_result"
    }
   ],
   "source": [
    "pd.Series(nmpyarr , index=mynames)"
   ]
  },
  {
   "cell_type": "code",
   "execution_count": 11,
   "id": "12993bb7",
   "metadata": {},
   "outputs": [
    {
     "data": {
      "text/plain": [
       "1     John\n",
       "2      Tom\n",
       "3    David\n",
       "dtype: object"
      ]
     },
     "execution_count": 11,
     "metadata": {},
     "output_type": "execute_result"
    }
   ],
   "source": [
    "# Burda asıl veriler string old. için dtype'ı object döndürdü\n",
    "pd.Series([\"John\",\"Tom\",\"David\"] , [1,2,3])"
   ]
  },
  {
   "cell_type": "code",
   "execution_count": 13,
   "id": "d071f281",
   "metadata": {},
   "outputs": [
    {
     "data": {
      "text/plain": [
       "John     20\n",
       "Tom      10\n",
       "David     8\n",
       "dtype: int64"
      ]
     },
     "execution_count": 13,
     "metadata": {},
     "output_type": "execute_result"
    }
   ],
   "source": [
    "yarışmasonucu = pd.Series([20,10,8] , [\"John\",\"Tom\",\"David\"])\n",
    "yarışmasonucu"
   ]
  },
  {
   "cell_type": "code",
   "execution_count": 14,
   "id": "1a77f9c1",
   "metadata": {},
   "outputs": [
    {
     "data": {
      "text/plain": [
       "10"
      ]
     },
     "execution_count": 14,
     "metadata": {},
     "output_type": "execute_result"
    }
   ],
   "source": [
    "yarışmasonucu[\"Tom\"] # yarışma sonucunda Tom'un kaç puan aldığını bu şekilde çekeriz"
   ]
  },
  {
   "cell_type": "markdown",
   "id": "2482406f",
   "metadata": {},
   "source": [
    "### Dataframe\n",
    "- Serilerin birleştirilmiş hali gibi düşünebiliriz, iki boyutlu yapılardır.\n",
    "- Excel tablosuna benzer bir çıktı verir."
   ]
  },
  {
   "cell_type": "code",
   "execution_count": 15,
   "id": "8201bae0",
   "metadata": {},
   "outputs": [
    {
     "data": {
      "text/plain": [
       "array([[-0.86741253, -1.75239685,  0.84698909],\n",
       "       [-0.91354969, -1.25035015,  0.18674016],\n",
       "       [ 0.39250627,  1.35348022,  1.26911058],\n",
       "       [ 0.68861602,  1.58898362, -1.85865667]])"
      ]
     },
     "execution_count": 15,
     "metadata": {},
     "output_type": "execute_result"
    }
   ],
   "source": [
    "data = np.random.randn(4,3)\n",
    "data"
   ]
  },
  {
   "cell_type": "code",
   "execution_count": 16,
   "id": "45eb6ab2",
   "metadata": {},
   "outputs": [
    {
     "data": {
      "text/html": [
       "<div>\n",
       "<style scoped>\n",
       "    .dataframe tbody tr th:only-of-type {\n",
       "        vertical-align: middle;\n",
       "    }\n",
       "\n",
       "    .dataframe tbody tr th {\n",
       "        vertical-align: top;\n",
       "    }\n",
       "\n",
       "    .dataframe thead th {\n",
       "        text-align: right;\n",
       "    }\n",
       "</style>\n",
       "<table border=\"1\" class=\"dataframe\">\n",
       "  <thead>\n",
       "    <tr style=\"text-align: right;\">\n",
       "      <th></th>\n",
       "      <th>0</th>\n",
       "      <th>1</th>\n",
       "      <th>2</th>\n",
       "    </tr>\n",
       "  </thead>\n",
       "  <tbody>\n",
       "    <tr>\n",
       "      <th>0</th>\n",
       "      <td>-0.867413</td>\n",
       "      <td>-1.752397</td>\n",
       "      <td>0.846989</td>\n",
       "    </tr>\n",
       "    <tr>\n",
       "      <th>1</th>\n",
       "      <td>-0.913550</td>\n",
       "      <td>-1.250350</td>\n",
       "      <td>0.186740</td>\n",
       "    </tr>\n",
       "    <tr>\n",
       "      <th>2</th>\n",
       "      <td>0.392506</td>\n",
       "      <td>1.353480</td>\n",
       "      <td>1.269111</td>\n",
       "    </tr>\n",
       "    <tr>\n",
       "      <th>3</th>\n",
       "      <td>0.688616</td>\n",
       "      <td>1.588984</td>\n",
       "      <td>-1.858657</td>\n",
       "    </tr>\n",
       "  </tbody>\n",
       "</table>\n",
       "</div>"
      ],
      "text/plain": [
       "          0         1         2\n",
       "0 -0.867413 -1.752397  0.846989\n",
       "1 -0.913550 -1.250350  0.186740\n",
       "2  0.392506  1.353480  1.269111\n",
       "3  0.688616  1.588984 -1.858657"
      ]
     },
     "execution_count": 16,
     "metadata": {},
     "output_type": "execute_result"
    }
   ],
   "source": [
    "dataFrame = pd.DataFrame(data)\n",
    "dataFrame"
   ]
  },
  {
   "cell_type": "code",
   "execution_count": 17,
   "id": "07b01bbb",
   "metadata": {},
   "outputs": [
    {
     "data": {
      "text/plain": [
       "0   -0.867413\n",
       "1   -0.913550\n",
       "2    0.392506\n",
       "3    0.688616\n",
       "Name: 0, dtype: float64"
      ]
     },
     "execution_count": 17,
     "metadata": {},
     "output_type": "execute_result"
    }
   ],
   "source": [
    "dataFrame[0]"
   ]
  },
  {
   "cell_type": "code",
   "execution_count": 18,
   "id": "f1ebd31a",
   "metadata": {},
   "outputs": [
    {
     "data": {
      "text/plain": [
       "pandas.core.series.Series"
      ]
     },
     "execution_count": 18,
     "metadata": {},
     "output_type": "execute_result"
    }
   ],
   "source": [
    "type(dataFrame[0]) # demek ki dataframeler serilerin birleşiminden oluşur."
   ]
  },
  {
   "cell_type": "code",
   "execution_count": 19,
   "id": "83523bbf",
   "metadata": {},
   "outputs": [
    {
     "data": {
      "text/html": [
       "<div>\n",
       "<style scoped>\n",
       "    .dataframe tbody tr th:only-of-type {\n",
       "        vertical-align: middle;\n",
       "    }\n",
       "\n",
       "    .dataframe tbody tr th {\n",
       "        vertical-align: top;\n",
       "    }\n",
       "\n",
       "    .dataframe thead th {\n",
       "        text-align: right;\n",
       "    }\n",
       "</style>\n",
       "<table border=\"1\" class=\"dataframe\">\n",
       "  <thead>\n",
       "    <tr style=\"text-align: right;\">\n",
       "      <th></th>\n",
       "      <th>Maas</th>\n",
       "      <th>Yas</th>\n",
       "      <th>CalısmaSaati</th>\n",
       "    </tr>\n",
       "  </thead>\n",
       "  <tbody>\n",
       "    <tr>\n",
       "      <th>John</th>\n",
       "      <td>-0.867413</td>\n",
       "      <td>-1.752397</td>\n",
       "      <td>0.846989</td>\n",
       "    </tr>\n",
       "    <tr>\n",
       "      <th>Tom</th>\n",
       "      <td>-0.913550</td>\n",
       "      <td>-1.250350</td>\n",
       "      <td>0.186740</td>\n",
       "    </tr>\n",
       "    <tr>\n",
       "      <th>David</th>\n",
       "      <td>0.392506</td>\n",
       "      <td>1.353480</td>\n",
       "      <td>1.269111</td>\n",
       "    </tr>\n",
       "    <tr>\n",
       "      <th>Marry</th>\n",
       "      <td>0.688616</td>\n",
       "      <td>1.588984</td>\n",
       "      <td>-1.858657</td>\n",
       "    </tr>\n",
       "  </tbody>\n",
       "</table>\n",
       "</div>"
      ],
      "text/plain": [
       "           Maas       Yas  CalısmaSaati\n",
       "John  -0.867413 -1.752397      0.846989\n",
       "Tom   -0.913550 -1.250350      0.186740\n",
       "David  0.392506  1.353480      1.269111\n",
       "Marry  0.688616  1.588984     -1.858657"
      ]
     },
     "execution_count": 19,
     "metadata": {},
     "output_type": "execute_result"
    }
   ],
   "source": [
    "newdataframe = pd.DataFrame(data,index=[\"John\",\"Tom\",\"David\",\"Marry\"],columns=[\"Maas\",\"Yas\",\"CalısmaSaati\"])\n",
    "newdataframe"
   ]
  },
  {
   "cell_type": "code",
   "execution_count": 20,
   "id": "3ec16a6f",
   "metadata": {},
   "outputs": [
    {
     "data": {
      "text/plain": [
       "John    -1.752397\n",
       "Tom     -1.250350\n",
       "David    1.353480\n",
       "Marry    1.588984\n",
       "Name: Yas, dtype: float64"
      ]
     },
     "execution_count": 20,
     "metadata": {},
     "output_type": "execute_result"
    }
   ],
   "source": [
    "newdataframe[\"Yas\"]"
   ]
  },
  {
   "cell_type": "code",
   "execution_count": 21,
   "id": "f2acfd78",
   "metadata": {},
   "outputs": [
    {
     "data": {
      "text/html": [
       "<div>\n",
       "<style scoped>\n",
       "    .dataframe tbody tr th:only-of-type {\n",
       "        vertical-align: middle;\n",
       "    }\n",
       "\n",
       "    .dataframe tbody tr th {\n",
       "        vertical-align: top;\n",
       "    }\n",
       "\n",
       "    .dataframe thead th {\n",
       "        text-align: right;\n",
       "    }\n",
       "</style>\n",
       "<table border=\"1\" class=\"dataframe\">\n",
       "  <thead>\n",
       "    <tr style=\"text-align: right;\">\n",
       "      <th></th>\n",
       "      <th>Yas</th>\n",
       "      <th>CalısmaSaati</th>\n",
       "    </tr>\n",
       "  </thead>\n",
       "  <tbody>\n",
       "    <tr>\n",
       "      <th>John</th>\n",
       "      <td>-1.752397</td>\n",
       "      <td>0.846989</td>\n",
       "    </tr>\n",
       "    <tr>\n",
       "      <th>Tom</th>\n",
       "      <td>-1.250350</td>\n",
       "      <td>0.186740</td>\n",
       "    </tr>\n",
       "    <tr>\n",
       "      <th>David</th>\n",
       "      <td>1.353480</td>\n",
       "      <td>1.269111</td>\n",
       "    </tr>\n",
       "    <tr>\n",
       "      <th>Marry</th>\n",
       "      <td>1.588984</td>\n",
       "      <td>-1.858657</td>\n",
       "    </tr>\n",
       "  </tbody>\n",
       "</table>\n",
       "</div>"
      ],
      "text/plain": [
       "            Yas  CalısmaSaati\n",
       "John  -1.752397      0.846989\n",
       "Tom   -1.250350      0.186740\n",
       "David  1.353480      1.269111\n",
       "Marry  1.588984     -1.858657"
      ]
     },
     "execution_count": 21,
     "metadata": {},
     "output_type": "execute_result"
    }
   ],
   "source": [
    "newdataframe[[\"Yas\",\"CalısmaSaati\"]]"
   ]
  },
  {
   "cell_type": "code",
   "execution_count": 22,
   "id": "26434867",
   "metadata": {},
   "outputs": [
    {
     "data": {
      "text/plain": [
       "Maas            0.392506\n",
       "Yas             1.353480\n",
       "CalısmaSaati    1.269111\n",
       "Name: David, dtype: float64"
      ]
     },
     "execution_count": 22,
     "metadata": {},
     "output_type": "execute_result"
    }
   ],
   "source": [
    "newdataframe.loc[\"David\"] #column değil de raw seçmek istersek loc(yani locate) fonk.kullanılır"
   ]
  },
  {
   "cell_type": "code",
   "execution_count": 23,
   "id": "5105dc0c",
   "metadata": {},
   "outputs": [
    {
     "data": {
      "text/plain": [
       "Maas            0.392506\n",
       "Yas             1.353480\n",
       "CalısmaSaati    1.269111\n",
       "Name: David, dtype: float64"
      ]
     },
     "execution_count": 23,
     "metadata": {},
     "output_type": "execute_result"
    }
   ],
   "source": [
    "# index bazlı location işlemi yapar\n",
    "newdataframe.iloc[2] #2. indekse sahip olanı döndürür yani David"
   ]
  },
  {
   "cell_type": "code",
   "execution_count": null,
   "id": "f31ccb71",
   "metadata": {},
   "outputs": [],
   "source": []
  }
 ],
 "metadata": {
  "kernelspec": {
   "display_name": "Python 3 (ipykernel)",
   "language": "python",
   "name": "python3"
  },
  "language_info": {
   "codemirror_mode": {
    "name": "ipython",
    "version": 3
   },
   "file_extension": ".py",
   "mimetype": "text/x-python",
   "name": "python",
   "nbconvert_exporter": "python",
   "pygments_lexer": "ipython3",
   "version": "3.11.7"
  }
 },
 "nbformat": 4,
 "nbformat_minor": 5
}
